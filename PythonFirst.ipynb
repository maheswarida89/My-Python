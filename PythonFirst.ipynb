{
 "cells": [
  {
   "cell_type": "code",
   "execution_count": 5,
   "id": "acb174d9-0adc-4f2d-8922-0f3766751f84",
   "metadata": {},
   "outputs": [],
   "source": [
    "a=4"
   ]
  },
  {
   "cell_type": "code",
   "execution_count": 7,
   "id": "75888ed3-1b8e-411e-85c0-cd818743b13d",
   "metadata": {},
   "outputs": [
    {
     "data": {
      "text/plain": [
       "4"
      ]
     },
     "execution_count": 7,
     "metadata": {},
     "output_type": "execute_result"
    }
   ],
   "source": [
    "a"
   ]
  },
  {
   "cell_type": "code",
   "execution_count": 9,
   "id": "97b3cccb-2f21-4caf-8708-68d4bb796119",
   "metadata": {},
   "outputs": [
    {
     "data": {
      "text/plain": [
       "int"
      ]
     },
     "execution_count": 9,
     "metadata": {},
     "output_type": "execute_result"
    }
   ],
   "source": [
    "type(a)"
   ]
  },
  {
   "cell_type": "code",
   "execution_count": 11,
   "id": "00b26eb9-9d83-4e7d-ac91-40e2efb730b1",
   "metadata": {},
   "outputs": [
    {
     "name": "stdout",
     "output_type": "stream",
     "text": [
      "hello\n"
     ]
    }
   ],
   "source": [
    "print(\"hello\")"
   ]
  },
  {
   "cell_type": "code",
   "execution_count": 13,
   "id": "7608f322-43c0-4408-bfcb-b0171557a32b",
   "metadata": {},
   "outputs": [
    {
     "name": "stdout",
     "output_type": "stream",
     "text": [
      "Hi Mahi\n",
      "How are you?\n"
     ]
    }
   ],
   "source": [
    "print(\"Hi Mahi\")\n",
    "print('How are you?')"
   ]
  },
  {
   "cell_type": "code",
   "execution_count": 25,
   "id": "023280e6-7ace-48e6-9e89-1ce413a17dba",
   "metadata": {},
   "outputs": [
    {
     "name": "stdout",
     "output_type": "stream",
     "text": [
      "Hi\t Mahi\n"
     ]
    }
   ],
   "source": [
    "print(\"Hi\\t Mahi\")"
   ]
  },
  {
   "cell_type": "code",
   "execution_count": 27,
   "id": "e0cbf718-8571-422b-b824-3a03573bda1c",
   "metadata": {},
   "outputs": [
    {
     "data": {
      "text/plain": [
       "7"
      ]
     },
     "execution_count": 27,
     "metadata": {},
     "output_type": "execute_result"
    }
   ],
   "source": [
    "len(\"Hi Mahi\")"
   ]
  },
  {
   "cell_type": "code",
   "execution_count": 29,
   "id": "02298fa3-1f1c-4d6d-acf4-78a5e5d0730b",
   "metadata": {},
   "outputs": [],
   "source": [
    "m = 'Mahi'"
   ]
  },
  {
   "cell_type": "code",
   "execution_count": 31,
   "id": "7b26b2d3-b02e-4167-b1a5-a0ccaccf887f",
   "metadata": {},
   "outputs": [
    {
     "data": {
      "text/plain": [
       "'Mahi'"
      ]
     },
     "execution_count": 31,
     "metadata": {},
     "output_type": "execute_result"
    }
   ],
   "source": [
    "m"
   ]
  },
  {
   "cell_type": "code",
   "execution_count": 33,
   "id": "78999525-d8c5-447f-aff4-01dc61f4fa36",
   "metadata": {},
   "outputs": [
    {
     "data": {
      "text/plain": [
       "'h'"
      ]
     },
     "execution_count": 33,
     "metadata": {},
     "output_type": "execute_result"
    }
   ],
   "source": [
    "m[2]"
   ]
  },
  {
   "cell_type": "code",
   "execution_count": 35,
   "id": "a47385bf-ff89-4651-beba-865bc603356e",
   "metadata": {},
   "outputs": [
    {
     "data": {
      "text/plain": [
       "'i'"
      ]
     },
     "execution_count": 35,
     "metadata": {},
     "output_type": "execute_result"
    }
   ],
   "source": [
    "m[-1]"
   ]
  },
  {
   "cell_type": "code",
   "execution_count": 43,
   "id": "8daea63b-230e-4fdc-8660-864dacc2fda8",
   "metadata": {},
   "outputs": [],
   "source": [
    "m = \"Maheswari\"\n"
   ]
  },
  {
   "cell_type": "code",
   "execution_count": 45,
   "id": "2df16fd3-5ac8-4352-9ebd-62c4e3d57ca3",
   "metadata": {},
   "outputs": [
    {
     "data": {
      "text/plain": [
       "'Maheswari'"
      ]
     },
     "execution_count": 45,
     "metadata": {},
     "output_type": "execute_result"
    }
   ],
   "source": [
    "m"
   ]
  },
  {
   "cell_type": "code",
   "execution_count": 47,
   "id": "87c541ed-2fd0-4fa4-ab3c-f1183e611dba",
   "metadata": {},
   "outputs": [
    {
     "data": {
      "text/plain": [
       "'heswari'"
      ]
     },
     "execution_count": 47,
     "metadata": {},
     "output_type": "execute_result"
    }
   ],
   "source": [
    "m[2:]"
   ]
  },
  {
   "cell_type": "code",
   "execution_count": 49,
   "id": "88f59f3d-028d-49b0-b751-ef5a7a8ab4eb",
   "metadata": {},
   "outputs": [
    {
     "data": {
      "text/plain": [
       "'Mahe'"
      ]
     },
     "execution_count": 49,
     "metadata": {},
     "output_type": "execute_result"
    }
   ],
   "source": [
    "m[:4]"
   ]
  },
  {
   "cell_type": "code",
   "execution_count": 51,
   "id": "4c0c8bec-9a37-46ee-8c65-339cee0a7fea",
   "metadata": {},
   "outputs": [
    {
     "data": {
      "text/plain": [
       "'Mahe'"
      ]
     },
     "execution_count": 51,
     "metadata": {},
     "output_type": "execute_result"
    }
   ],
   "source": [
    "m[0:4]"
   ]
  },
  {
   "cell_type": "code",
   "execution_count": 53,
   "id": "6698cd57-0fc6-4f61-8189-6b2b67b57ff6",
   "metadata": {},
   "outputs": [
    {
     "data": {
      "text/plain": [
       "'eswari'"
      ]
     },
     "execution_count": 53,
     "metadata": {},
     "output_type": "execute_result"
    }
   ],
   "source": [
    "m[3:]"
   ]
  },
  {
   "cell_type": "code",
   "execution_count": 55,
   "id": "d4a7a39e-1723-4eef-aab1-6e0c0b53fa34",
   "metadata": {},
   "outputs": [
    {
     "data": {
      "text/plain": [
       "'eswar'"
      ]
     },
     "execution_count": 55,
     "metadata": {},
     "output_type": "execute_result"
    }
   ],
   "source": [
    "m[3:8]"
   ]
  },
  {
   "cell_type": "code",
   "execution_count": 57,
   "id": "ba797534-8f1d-4bed-b8c5-0eb10533d7eb",
   "metadata": {},
   "outputs": [
    {
     "data": {
      "text/plain": [
       "'Maheswari'"
      ]
     },
     "execution_count": 57,
     "metadata": {},
     "output_type": "execute_result"
    }
   ],
   "source": [
    "m[:]"
   ]
  },
  {
   "cell_type": "code",
   "execution_count": 59,
   "id": "bce26f6b-e773-4078-8d19-6764820d2ede",
   "metadata": {},
   "outputs": [
    {
     "data": {
      "text/plain": [
       "'Mhsai'"
      ]
     },
     "execution_count": 59,
     "metadata": {},
     "output_type": "execute_result"
    }
   ],
   "source": [
    "m[0::2]"
   ]
  },
  {
   "cell_type": "code",
   "execution_count": 61,
   "id": "cd301adf-4b7f-46ce-8080-5e6c4ed653fc",
   "metadata": {},
   "outputs": [],
   "source": [
    "m=\"gdhfjgjhghjy\""
   ]
  },
  {
   "cell_type": "code",
   "execution_count": 63,
   "id": "9b5c642b-44c5-49a4-ad01-8dd2039aed97",
   "metadata": {},
   "outputs": [
    {
     "data": {
      "text/plain": [
       "'djh'"
      ]
     },
     "execution_count": 63,
     "metadata": {},
     "output_type": "execute_result"
    }
   ],
   "source": [
    "m[1:10:3]"
   ]
  },
  {
   "cell_type": "code",
   "execution_count": 71,
   "id": "e856a818-3e28-4e96-ad1e-007cae1d9237",
   "metadata": {},
   "outputs": [
    {
     "data": {
      "text/plain": [
       "'yhhgfd'"
      ]
     },
     "execution_count": 71,
     "metadata": {},
     "output_type": "execute_result"
    }
   ],
   "source": [
    "m[::-2]"
   ]
  },
  {
   "cell_type": "code",
   "execution_count": 7,
   "id": "558e4fec-b5d6-46ff-9992-c6740ba5678c",
   "metadata": {},
   "outputs": [],
   "source": [
    "a= \"How are you\""
   ]
  },
  {
   "cell_type": "code",
   "execution_count": 25,
   "id": "5f9d0f46-ff69-4417-ada7-c0c7ac3e116a",
   "metadata": {},
   "outputs": [],
   "source": [
    "b=\" Mahi\""
   ]
  },
  {
   "cell_type": "code",
   "execution_count": 27,
   "id": "fd27c499-643e-4d0c-afb8-9fab7a4a7c89",
   "metadata": {},
   "outputs": [],
   "source": [
    "x=a+b"
   ]
  },
  {
   "cell_type": "code",
   "execution_count": 29,
   "id": "287e88d8-b692-4357-8fdd-b949661d8218",
   "metadata": {},
   "outputs": [
    {
     "data": {
      "text/plain": [
       "'How are you Mahi'"
      ]
     },
     "execution_count": 29,
     "metadata": {},
     "output_type": "execute_result"
    }
   ],
   "source": [
    "x"
   ]
  },
  {
   "cell_type": "code",
   "execution_count": 33,
   "id": "8f532a9b-3379-4cd1-89ac-7046755e9093",
   "metadata": {},
   "outputs": [
    {
     "data": {
      "text/plain": [
       "'How are you MahiHow are you Mahi'"
      ]
     },
     "execution_count": 33,
     "metadata": {},
     "output_type": "execute_result"
    }
   ],
   "source": [
    "x * 2"
   ]
  },
  {
   "cell_type": "code",
   "execution_count": 35,
   "id": "5fa8ad9f-e15a-4088-a96d-7a3f4e2a3cd7",
   "metadata": {},
   "outputs": [
    {
     "data": {
      "text/plain": [
       "'Hi Mahi '"
      ]
     },
     "execution_count": 35,
     "metadata": {},
     "output_type": "execute_result"
    }
   ],
   "source": [
    "'Hi'+' Mahi '"
   ]
  },
  {
   "cell_type": "code",
   "execution_count": 37,
   "id": "bcfa1fcd-7378-47c9-bb80-1216d23f9090",
   "metadata": {},
   "outputs": [
    {
     "data": {
      "text/plain": [
       "'How are you Mahi'"
      ]
     },
     "execution_count": 37,
     "metadata": {},
     "output_type": "execute_result"
    }
   ],
   "source": [
    "x"
   ]
  },
  {
   "cell_type": "code",
   "execution_count": 39,
   "id": "470d6440-3d78-4f72-9bd1-99a38f793f97",
   "metadata": {},
   "outputs": [
    {
     "data": {
      "text/plain": [
       "'HOW ARE YOU MAHI'"
      ]
     },
     "execution_count": 39,
     "metadata": {},
     "output_type": "execute_result"
    }
   ],
   "source": [
    "x.upper()"
   ]
  },
  {
   "cell_type": "code",
   "execution_count": 41,
   "id": "e92cdf93-dcb9-4235-b759-bf03af5aa485",
   "metadata": {},
   "outputs": [
    {
     "data": {
      "text/plain": [
       "'how are you mahi'"
      ]
     },
     "execution_count": 41,
     "metadata": {},
     "output_type": "execute_result"
    }
   ],
   "source": [
    "x.lower()"
   ]
  },
  {
   "cell_type": "code",
   "execution_count": 43,
   "id": "5a00f5c0-11da-4f5f-b644-b35129467e26",
   "metadata": {},
   "outputs": [
    {
     "data": {
      "text/plain": [
       "['How', 'are', 'you', 'Mahi']"
      ]
     },
     "execution_count": 43,
     "metadata": {},
     "output_type": "execute_result"
    }
   ],
   "source": [
    "x.split()"
   ]
  },
  {
   "cell_type": "code",
   "execution_count": 47,
   "id": "0c88a8cd-ca8d-4093-b158-2097df923936",
   "metadata": {},
   "outputs": [
    {
     "data": {
      "text/plain": [
       "['H', 'w are y', 'u Mahi']"
      ]
     },
     "execution_count": 47,
     "metadata": {},
     "output_type": "execute_result"
    }
   ],
   "source": [
    "x.split('o')"
   ]
  },
  {
   "cell_type": "code",
   "execution_count": 49,
   "id": "f0677e5e-d955-4d55-8c3d-081a9832973f",
   "metadata": {},
   "outputs": [],
   "source": [
    "y=\"Hello World\""
   ]
  },
  {
   "cell_type": "code",
   "execution_count": 51,
   "id": "0025f528-8771-410c-bbc2-7ef74ce4fa68",
   "metadata": {},
   "outputs": [
    {
     "data": {
      "text/plain": [
       "['He', '', 'o Wor', 'd']"
      ]
     },
     "execution_count": 51,
     "metadata": {},
     "output_type": "execute_result"
    }
   ],
   "source": [
    "y.split('l')"
   ]
  },
  {
   "cell_type": "code",
   "execution_count": 2,
   "id": "c0eed07d-7118-48a7-84f0-fa1b9c2397c6",
   "metadata": {},
   "outputs": [],
   "source": [
    "l1=['mahi','akhi','phani']"
   ]
  },
  {
   "cell_type": "code",
   "execution_count": 8,
   "id": "dc3799b1-5cde-4f61-8305-f625dec58a1b",
   "metadata": {},
   "outputs": [],
   "source": [
    "l2=['vamsi','naveen']"
   ]
  },
  {
   "cell_type": "code",
   "execution_count": 10,
   "id": "6b4c2e68-6d03-4747-a49e-de7357567fd0",
   "metadata": {},
   "outputs": [],
   "source": [
    "l3=l1+l2"
   ]
  },
  {
   "cell_type": "code",
   "execution_count": 14,
   "id": "35608715-f134-4008-8f6e-3a93eaeb4758",
   "metadata": {},
   "outputs": [
    {
     "data": {
      "text/plain": [
       "['mahi', 'akhi', 'phani', 'vamsi', 'naveen', 1, 2, 3]"
      ]
     },
     "execution_count": 14,
     "metadata": {},
     "output_type": "execute_result"
    }
   ],
   "source": [
    "l3 + [1,2,3]"
   ]
  },
  {
   "cell_type": "code",
   "execution_count": 16,
   "id": "9bea7105-58a7-4a81-8c43-0f59d59a7328",
   "metadata": {},
   "outputs": [
    {
     "data": {
      "text/plain": [
       "['mahi', 'akhi', 'phani', 'vamsi', 'naveen', 'Sai']"
      ]
     },
     "execution_count": 16,
     "metadata": {},
     "output_type": "execute_result"
    }
   ],
   "source": [
    "l3+['Sai']"
   ]
  },
  {
   "cell_type": "code",
   "execution_count": 20,
   "id": "02855e3d-ab2a-4e7c-b71a-1741202aa538",
   "metadata": {},
   "outputs": [
    {
     "data": {
      "text/plain": [
       "[1, 2, 'mahi']"
      ]
     },
     "execution_count": 20,
     "metadata": {},
     "output_type": "execute_result"
    }
   ],
   "source": [
    "[1,2]+['mahi']"
   ]
  },
  {
   "cell_type": "code",
   "execution_count": 22,
   "id": "ddab392b-584f-4c9f-be35-a36bf7060fce",
   "metadata": {},
   "outputs": [],
   "source": [
    "l3.append('sai')"
   ]
  },
  {
   "cell_type": "code",
   "execution_count": 24,
   "id": "e0ec4e0a-6af5-40d8-9eec-ec7d88638bed",
   "metadata": {},
   "outputs": [
    {
     "data": {
      "text/plain": [
       "['mahi', 'akhi', 'phani', 'vamsi', 'naveen', 'sai']"
      ]
     },
     "execution_count": 24,
     "metadata": {},
     "output_type": "execute_result"
    }
   ],
   "source": [
    "l3"
   ]
  },
  {
   "cell_type": "code",
   "execution_count": 26,
   "id": "cb7d24fe-eba2-41a6-ae76-b8c31f4417f5",
   "metadata": {},
   "outputs": [
    {
     "data": {
      "text/plain": [
       "'naveen'"
      ]
     },
     "execution_count": 26,
     "metadata": {},
     "output_type": "execute_result"
    }
   ],
   "source": [
    "l3.pop(-2)"
   ]
  },
  {
   "cell_type": "code",
   "execution_count": 28,
   "id": "9556f3a3-dadb-4047-8a7b-6230d2ad3097",
   "metadata": {},
   "outputs": [
    {
     "data": {
      "text/plain": [
       "['mahi', 'akhi', 'phani', 'vamsi', 'sai']"
      ]
     },
     "execution_count": 28,
     "metadata": {},
     "output_type": "execute_result"
    }
   ],
   "source": [
    "l3"
   ]
  },
  {
   "cell_type": "code",
   "execution_count": 34,
   "id": "7d74768d-c58f-4045-85b9-73a5cb17c583",
   "metadata": {},
   "outputs": [],
   "source": [
    "my_list=[1,2,['mahi']]\n"
   ]
  },
  {
   "cell_type": "code",
   "execution_count": 36,
   "id": "4521aaaf-7f6f-47b4-a032-d18fd1cd0836",
   "metadata": {},
   "outputs": [
    {
     "data": {
      "text/plain": [
       "[1, 2, ['mahi']]"
      ]
     },
     "execution_count": 36,
     "metadata": {},
     "output_type": "execute_result"
    }
   ],
   "source": [
    "my_list\n",
    "\n"
   ]
  },
  {
   "cell_type": "code",
   "execution_count": 40,
   "id": "4b9f0021-60fc-449b-8525-807bd239509a",
   "metadata": {},
   "outputs": [
    {
     "data": {
      "text/plain": [
       "['mahi']"
      ]
     },
     "execution_count": 40,
     "metadata": {},
     "output_type": "execute_result"
    }
   ],
   "source": [
    "my_list[2]"
   ]
  },
  {
   "cell_type": "code",
   "execution_count": 42,
   "id": "d2c280f5-a9bc-4cf7-933d-6cc10b7884fa",
   "metadata": {},
   "outputs": [],
   "source": [
    "dict={'a':100,'name':'mahi'}"
   ]
  },
  {
   "cell_type": "code",
   "execution_count": 44,
   "id": "ec9cc83d-63d9-4882-83d6-5300bd707126",
   "metadata": {},
   "outputs": [
    {
     "data": {
      "text/plain": [
       "{'a': 100, 'name': 'mahi'}"
      ]
     },
     "execution_count": 44,
     "metadata": {},
     "output_type": "execute_result"
    }
   ],
   "source": [
    "dict"
   ]
  },
  {
   "cell_type": "code",
   "execution_count": 48,
   "id": "b0959f2c-32be-46b6-bb9e-2373d13975cd",
   "metadata": {},
   "outputs": [],
   "source": [
    "dict['age']=26"
   ]
  },
  {
   "cell_type": "code",
   "execution_count": 50,
   "id": "089e8aa1-3c2b-4b5e-a5ff-d746b211096e",
   "metadata": {},
   "outputs": [],
   "source": [
    "dict['frnd']='akhi'"
   ]
  },
  {
   "cell_type": "code",
   "execution_count": 52,
   "id": "f781d96e-1840-4c4f-b62d-2d8ae8a3bebc",
   "metadata": {},
   "outputs": [
    {
     "data": {
      "text/plain": [
       "{'a': 100, 'name': 'mahi', 'age': 26, 'frnd': 'akhi'}"
      ]
     },
     "execution_count": 52,
     "metadata": {},
     "output_type": "execute_result"
    }
   ],
   "source": [
    "dict"
   ]
  },
  {
   "cell_type": "code",
   "execution_count": 54,
   "id": "5e391987-bc8c-4240-8d77-87bd2b8bcd3c",
   "metadata": {},
   "outputs": [],
   "source": [
    "dict['age']=25"
   ]
  },
  {
   "cell_type": "code",
   "execution_count": 56,
   "id": "b6fd7b00-1e95-4ff3-84f4-e4f4f5c37fa3",
   "metadata": {},
   "outputs": [
    {
     "data": {
      "text/plain": [
       "{'a': 100, 'name': 'mahi', 'age': 25, 'frnd': 'akhi'}"
      ]
     },
     "execution_count": 56,
     "metadata": {},
     "output_type": "execute_result"
    }
   ],
   "source": [
    "dict"
   ]
  },
  {
   "cell_type": "code",
   "execution_count": 74,
   "id": "e7c8bc39-fd22-44cc-9adb-0630db51c273",
   "metadata": {},
   "outputs": [],
   "source": [
    "my_tuple=('mahi','mahi','akhi',1,1,1)\n"
   ]
  },
  {
   "cell_type": "code",
   "execution_count": 60,
   "id": "8b48359d-755f-42ed-b2a1-e961b722fe4b",
   "metadata": {},
   "outputs": [
    {
     "data": {
      "text/plain": [
       "('mahi', 'akhi', 1)"
      ]
     },
     "execution_count": 60,
     "metadata": {},
     "output_type": "execute_result"
    }
   ],
   "source": [
    "my_tuple"
   ]
  },
  {
   "cell_type": "code",
   "execution_count": 62,
   "id": "7aabcf90-3989-4d15-95aa-946a7d75e997",
   "metadata": {},
   "outputs": [
    {
     "data": {
      "text/plain": [
       "'akhi'"
      ]
     },
     "execution_count": 62,
     "metadata": {},
     "output_type": "execute_result"
    }
   ],
   "source": [
    "my_tuple[1]"
   ]
  },
  {
   "cell_type": "code",
   "execution_count": 66,
   "id": "e6b39bf9-cb62-47ca-a276-4908a8c65efe",
   "metadata": {},
   "outputs": [
    {
     "data": {
      "text/plain": [
       "1"
      ]
     },
     "execution_count": 66,
     "metadata": {},
     "output_type": "execute_result"
    }
   ],
   "source": [
    "my_tuple.index('akhi')"
   ]
  },
  {
   "cell_type": "code",
   "execution_count": 72,
   "id": "233a93a0-bdaa-4e8d-b4ca-9e5138645ec1",
   "metadata": {},
   "outputs": [
    {
     "data": {
      "text/plain": [
       "3"
      ]
     },
     "execution_count": 72,
     "metadata": {},
     "output_type": "execute_result"
    }
   ],
   "source": [
    "my_tuple.count(1)"
   ]
  },
  {
   "cell_type": "code",
   "execution_count": 76,
   "id": "310d4f9e-8028-408d-a77e-7fb4e7da5792",
   "metadata": {},
   "outputs": [
    {
     "data": {
      "text/plain": [
       "2"
      ]
     },
     "execution_count": 76,
     "metadata": {},
     "output_type": "execute_result"
    }
   ],
   "source": [
    "my_tuple.count('mahi')\n"
   ]
  },
  {
   "cell_type": "code",
   "execution_count": 78,
   "id": "6c6417ff-39e5-48ce-addb-b8f4b44a28f6",
   "metadata": {},
   "outputs": [],
   "source": [
    "t1=(1,'abc',[1,2,'name'])"
   ]
  },
  {
   "cell_type": "code",
   "execution_count": 80,
   "id": "84248b58-3766-4c1f-8dd9-cac7bc6b52a9",
   "metadata": {},
   "outputs": [
    {
     "data": {
      "text/plain": [
       "(1, 'abc', [1, 2, 'name'])"
      ]
     },
     "execution_count": 80,
     "metadata": {},
     "output_type": "execute_result"
    }
   ],
   "source": [
    "t1"
   ]
  },
  {
   "cell_type": "code",
   "execution_count": 84,
   "id": "2112d3cc-3028-4e2c-b8f7-1e21b2c81bd4",
   "metadata": {},
   "outputs": [
    {
     "data": {
      "text/plain": [
       "2"
      ]
     },
     "execution_count": 84,
     "metadata": {},
     "output_type": "execute_result"
    }
   ],
   "source": [
    "t1[2][1]"
   ]
  },
  {
   "cell_type": "code",
   "execution_count": 88,
   "id": "3c1259d5-1cf0-4227-a450-3a943d959db0",
   "metadata": {},
   "outputs": [
    {
     "data": {
      "text/plain": [
       "0"
      ]
     },
     "execution_count": 88,
     "metadata": {},
     "output_type": "execute_result"
    }
   ],
   "source": [
    "t1.index(1)"
   ]
  },
  {
   "cell_type": "code",
   "execution_count": 94,
   "id": "55a0c1bc-7698-4cd2-ae77-035cd8363fc8",
   "metadata": {},
   "outputs": [
    {
     "data": {
      "text/plain": [
       "{'d', 'h', 's'}"
      ]
     },
     "execution_count": 94,
     "metadata": {},
     "output_type": "execute_result"
    }
   ],
   "source": [
    "set('ddhshhhhdhh')\n"
   ]
  },
  {
   "cell_type": "code",
   "execution_count": 102,
   "id": "c2ba42bc-e4a2-4fcf-874e-fde1bd6be259",
   "metadata": {},
   "outputs": [
    {
     "data": {
      "text/plain": [
       "{'1'}"
      ]
     },
     "execution_count": 102,
     "metadata": {},
     "output_type": "execute_result"
    }
   ],
   "source": [
    "set('11')\n"
   ]
  },
  {
   "cell_type": "code",
   "execution_count": 104,
   "id": "f6b24a9c-e278-46d6-bbdb-c8f50148f143",
   "metadata": {},
   "outputs": [],
   "source": [
    "ll=[1,2,2,2,4,4,4,4]\n",
    "\n"
   ]
  },
  {
   "cell_type": "code",
   "execution_count": 106,
   "id": "fbc3c982-d15e-41e7-b971-13874da1a2b3",
   "metadata": {},
   "outputs": [
    {
     "data": {
      "text/plain": [
       "{1, 2, 4}"
      ]
     },
     "execution_count": 106,
     "metadata": {},
     "output_type": "execute_result"
    }
   ],
   "source": [
    "set(ll)\n"
   ]
  },
  {
   "cell_type": "code",
   "execution_count": 110,
   "id": "4224ac3b-3c72-4eb1-8ea8-6e904561214d",
   "metadata": {},
   "outputs": [
    {
     "data": {
      "text/plain": [
       "{1, 'akhi', 'mahi'}"
      ]
     },
     "execution_count": 110,
     "metadata": {},
     "output_type": "execute_result"
    }
   ],
   "source": [
    "set(my_tuple)"
   ]
  },
  {
   "cell_type": "code",
   "execution_count": 112,
   "id": "56f6ed88-6a87-485a-be0d-888de19de391",
   "metadata": {},
   "outputs": [],
   "source": [
    "my_tuple={'mahi',1,1,'mahi'}\n",
    "\n",
    "\n"
   ]
  },
  {
   "cell_type": "code",
   "execution_count": 114,
   "id": "e5c84ea9-fbf7-4cb7-833a-e8aaeaf6deec",
   "metadata": {},
   "outputs": [
    {
     "data": {
      "text/plain": [
       "{1, 'mahi'}"
      ]
     },
     "execution_count": 114,
     "metadata": {},
     "output_type": "execute_result"
    }
   ],
   "source": [
    "set(my_tuple)\n",
    "\n"
   ]
  },
  {
   "cell_type": "code",
   "execution_count": 116,
   "id": "290ec086-4c8b-4bfe-8825-fe80befb1cae",
   "metadata": {},
   "outputs": [
    {
     "data": {
      "text/plain": [
       "(1, 'abc', [1, 2, 'name'])"
      ]
     },
     "execution_count": 116,
     "metadata": {},
     "output_type": "execute_result"
    }
   ],
   "source": [
    "t1"
   ]
  }
 ],
 "metadata": {
  "kernelspec": {
   "display_name": "Python 3 (ipykernel)",
   "language": "python",
   "name": "python3"
  },
  "language_info": {
   "codemirror_mode": {
    "name": "ipython",
    "version": 3
   },
   "file_extension": ".py",
   "mimetype": "text/x-python",
   "name": "python",
   "nbconvert_exporter": "python",
   "pygments_lexer": "ipython3",
   "version": "3.12.4"
  }
 },
 "nbformat": 4,
 "nbformat_minor": 5
}
