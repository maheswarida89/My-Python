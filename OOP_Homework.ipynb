{
 "cells": [
  {
   "cell_type": "code",
   "execution_count": 1,
   "id": "56b3ae4e-567c-421a-a003-25a238c9bbb5",
   "metadata": {},
   "outputs": [],
   "source": [
    "class Line:\n",
    "    \n",
    "    def __init__(self,coor1,coor2):\n",
    "        self.coor1=coor1\n",
    "        self.coor2=coor2\n",
    "    \n",
    "    def distance(self):\n",
    "        x1,y1=self.coor1\n",
    "        x2,y2=self.coor2\n",
    "        return ((x2-x1)**2 + (y2-y1)**2)**0.5\n",
    "    \n",
    "    def slope(self):\n",
    "        x1,y1 = self.coor1\n",
    "        x2,y2 = self.coor2\n",
    "        return (y2-y1)/(x2-x1)\n",
    "            "
   ]
  },
  {
   "cell_type": "code",
   "execution_count": 3,
   "id": "4a05e647-f9c0-4a58-98b7-25641af93f7d",
   "metadata": {},
   "outputs": [],
   "source": [
    "coordinate1 = (3,2)\n",
    "coordinate2 = (8,10)\n",
    "\n",
    "my_line = Line(coordinate1,coordinate2)"
   ]
  },
  {
   "cell_type": "code",
   "execution_count": 5,
   "id": "a51fadd9-69ca-4f20-ba19-fd3caaab66fb",
   "metadata": {},
   "outputs": [
    {
     "data": {
      "text/plain": [
       "(3, 2)"
      ]
     },
     "execution_count": 5,
     "metadata": {},
     "output_type": "execute_result"
    }
   ],
   "source": [
    "my_line.coor1"
   ]
  },
  {
   "cell_type": "code",
   "execution_count": 7,
   "id": "83904883-2658-44b9-8ef2-347b3a255b3f",
   "metadata": {},
   "outputs": [
    {
     "data": {
      "text/plain": [
       "(8, 10)"
      ]
     },
     "execution_count": 7,
     "metadata": {},
     "output_type": "execute_result"
    }
   ],
   "source": [
    "my_line.coor2"
   ]
  },
  {
   "cell_type": "code",
   "execution_count": 11,
   "id": "4f4dcabf-545e-47ab-8db6-c7bcb8b7f062",
   "metadata": {},
   "outputs": [
    {
     "data": {
      "text/plain": [
       "9.433981132056603"
      ]
     },
     "execution_count": 11,
     "metadata": {},
     "output_type": "execute_result"
    }
   ],
   "source": [
    "my_line.distance()"
   ]
  },
  {
   "cell_type": "code",
   "execution_count": 13,
   "id": "8289834e-67d3-4d72-836f-69451f674d98",
   "metadata": {},
   "outputs": [
    {
     "data": {
      "text/plain": [
       "1.6"
      ]
     },
     "execution_count": 13,
     "metadata": {},
     "output_type": "execute_result"
    }
   ],
   "source": [
    "my_line.slope()"
   ]
  },
  {
   "cell_type": "code",
   "execution_count": 15,
   "id": "1aa1e2a9-db16-464e-be81-aa3a44352dd7",
   "metadata": {},
   "outputs": [],
   "source": [
    "line2=Line((6,3),(1,2))"
   ]
  },
  {
   "cell_type": "code",
   "execution_count": 17,
   "id": "d9475542-da4e-40ec-b11b-65267d25de4a",
   "metadata": {},
   "outputs": [
    {
     "data": {
      "text/plain": [
       "5.0990195135927845"
      ]
     },
     "execution_count": 17,
     "metadata": {},
     "output_type": "execute_result"
    }
   ],
   "source": [
    "line2.distance()"
   ]
  },
  {
   "cell_type": "code",
   "execution_count": 19,
   "id": "dd4f6bfb-08c1-4eda-a428-02c5ba8ce832",
   "metadata": {},
   "outputs": [
    {
     "data": {
      "text/plain": [
       "0.2"
      ]
     },
     "execution_count": 19,
     "metadata": {},
     "output_type": "execute_result"
    }
   ],
   "source": [
    "line2.slope()"
   ]
  },
  {
   "cell_type": "code",
   "execution_count": 21,
   "id": "6915d796-51ef-4e1a-bc19-f4ba20f0d59e",
   "metadata": {},
   "outputs": [],
   "source": [
    "class Cylinder:\n",
    "    \n",
    "    def __init__(self,height=1,radius=1):\n",
    "        self.height=height\n",
    "        self.radius=radius\n",
    "        \n",
    "    def volume(self):\n",
    "        return 3.14*self.height*self.radius**2\n",
    "    \n",
    "    def surface_area(self):\n",
    "        p=2*3.14*self.radius\n",
    "        return (p*self.height)+(p*self.radius)"
   ]
  },
  {
   "cell_type": "code",
   "execution_count": 23,
   "id": "8a5bcd32-dd13-4181-b22a-f7220d59201b",
   "metadata": {},
   "outputs": [],
   "source": [
    "c=Cylinder()"
   ]
  },
  {
   "cell_type": "code",
   "execution_count": 29,
   "id": "62c9737d-aba0-43c7-904f-d3ff7d6cbca3",
   "metadata": {},
   "outputs": [
    {
     "data": {
      "text/plain": [
       "12.56"
      ]
     },
     "execution_count": 29,
     "metadata": {},
     "output_type": "execute_result"
    }
   ],
   "source": [
    "c.surface_area()"
   ]
  },
  {
   "cell_type": "code",
   "execution_count": 31,
   "id": "444dc3be-62da-4788-b0e4-71ccf5f9e6d0",
   "metadata": {},
   "outputs": [
    {
     "data": {
      "text/plain": [
       "3.14"
      ]
     },
     "execution_count": 31,
     "metadata": {},
     "output_type": "execute_result"
    }
   ],
   "source": [
    "c.volume()"
   ]
  },
  {
   "cell_type": "code",
   "execution_count": 33,
   "id": "8cf4c111-a0dc-4abe-baf0-12312bf515e7",
   "metadata": {},
   "outputs": [],
   "source": [
    "c = Cylinder(2,3)"
   ]
  },
  {
   "cell_type": "code",
   "execution_count": 35,
   "id": "ff1eec56-fee8-4b2c-867d-5f570420b457",
   "metadata": {},
   "outputs": [
    {
     "data": {
      "text/plain": [
       "56.52"
      ]
     },
     "execution_count": 35,
     "metadata": {},
     "output_type": "execute_result"
    }
   ],
   "source": [
    "c.volume()"
   ]
  },
  {
   "cell_type": "code",
   "execution_count": 37,
   "id": "b4873f7e-e639-454b-bb8b-b0211d72ee51",
   "metadata": {},
   "outputs": [
    {
     "data": {
      "text/plain": [
       "94.19999999999999"
      ]
     },
     "execution_count": 37,
     "metadata": {},
     "output_type": "execute_result"
    }
   ],
   "source": [
    "c.surface_area()"
   ]
  },
  {
   "cell_type": "code",
   "execution_count": null,
   "id": "64db45ef-2f7b-44c9-9706-d268f12da8a2",
   "metadata": {},
   "outputs": [],
   "source": [
    "########### CHALLENGE ################"
   ]
  },
  {
   "cell_type": "code",
   "execution_count": 127,
   "id": "2be6c6c1-1a82-4f25-a988-fdc9eb796ca5",
   "metadata": {},
   "outputs": [],
   "source": [
    "class Account:\n",
    "    def __init__(self,owner,balance=0):\n",
    "        self.owner=owner\n",
    "        self.balance=balance\n",
    "    def __str__(self):\n",
    "        return f\"Account owner: {self.owner}\\nAccount balance: ${self.balance}\"\n",
    "        \n",
    "    def deposit(self,bal):\n",
    "        self.balance+=bal\n",
    "        print(\"Deposit accepted\")\n",
    "        \n",
    "    def withdraw(self,w):\n",
    "        if w<=self.balance:\n",
    "            self.balance=self.balance-w\n",
    "            print(\"Withdrawal accepted\")\n",
    "        else:\n",
    "            print('Funds Unavailable!')\n",
    "            \n",
    "        "
   ]
  },
  {
   "cell_type": "code",
   "execution_count": 129,
   "id": "01ead93a-374a-440c-8d31-1633abdbd956",
   "metadata": {},
   "outputs": [],
   "source": [
    "acct1 = Account('Jose',100)"
   ]
  },
  {
   "cell_type": "code",
   "execution_count": 131,
   "id": "aa7955a1-d77d-447c-8aa2-3ea80969aadb",
   "metadata": {},
   "outputs": [
    {
     "name": "stdout",
     "output_type": "stream",
     "text": [
      "Account owner: Jose\n",
      "Account balance: $100\n"
     ]
    }
   ],
   "source": [
    "print(acct1)"
   ]
  },
  {
   "cell_type": "code",
   "execution_count": 133,
   "id": "72fc5568-a912-4c42-bb47-5b2df63f76fe",
   "metadata": {},
   "outputs": [
    {
     "data": {
      "text/plain": [
       "100"
      ]
     },
     "execution_count": 133,
     "metadata": {},
     "output_type": "execute_result"
    }
   ],
   "source": [
    "acct1.balance"
   ]
  },
  {
   "cell_type": "code",
   "execution_count": 135,
   "id": "9a315c93-aa4a-432a-9f4f-8e67d631580d",
   "metadata": {},
   "outputs": [
    {
     "data": {
      "text/plain": [
       "'Jose'"
      ]
     },
     "execution_count": 135,
     "metadata": {},
     "output_type": "execute_result"
    }
   ],
   "source": [
    "acct1.owner"
   ]
  },
  {
   "cell_type": "code",
   "execution_count": 137,
   "id": "d982284e-96b7-46cf-a3e9-7fadb49a4511",
   "metadata": {},
   "outputs": [
    {
     "name": "stdout",
     "output_type": "stream",
     "text": [
      "Deposit accepted\n"
     ]
    }
   ],
   "source": [
    "acct1.deposit(50)"
   ]
  },
  {
   "cell_type": "code",
   "execution_count": 139,
   "id": "e6679ccf-9e9b-46c8-aadb-dbedccbe2312",
   "metadata": {},
   "outputs": [
    {
     "name": "stdout",
     "output_type": "stream",
     "text": [
      "Withdrawal accepted\n"
     ]
    }
   ],
   "source": [
    "acct1.withdraw(75)"
   ]
  },
  {
   "cell_type": "code",
   "execution_count": 141,
   "id": "28ed7073-b200-4479-9211-15eee90394ce",
   "metadata": {},
   "outputs": [
    {
     "name": "stdout",
     "output_type": "stream",
     "text": [
      "Funds Unavailable!\n"
     ]
    }
   ],
   "source": [
    "acct1.withdraw(500)"
   ]
  },
  {
   "cell_type": "code",
   "execution_count": 143,
   "id": "2cc25bd3-e183-4152-8046-4ee3e981fac6",
   "metadata": {},
   "outputs": [
    {
     "name": "stdout",
     "output_type": "stream",
     "text": [
      "Account owner: Jose\n",
      "Account balance: $75\n"
     ]
    }
   ],
   "source": [
    "print(acct1)"
   ]
  },
  {
   "cell_type": "code",
   "execution_count": 145,
   "id": "1aca486b-d8a3-4b6a-ab29-0ca52b945fd3",
   "metadata": {},
   "outputs": [
    {
     "name": "stdout",
     "output_type": "stream",
     "text": [
      "Deposit accepted\n"
     ]
    }
   ],
   "source": [
    "acct1.deposit(100)"
   ]
  },
  {
   "cell_type": "code",
   "execution_count": 147,
   "id": "18973dc7-89e5-4f25-8d01-0ca55128757d",
   "metadata": {},
   "outputs": [
    {
     "data": {
      "text/plain": [
       "175"
      ]
     },
     "execution_count": 147,
     "metadata": {},
     "output_type": "execute_result"
    }
   ],
   "source": [
    "acct1.balance"
   ]
  },
  {
   "cell_type": "code",
   "execution_count": 151,
   "id": "7d19b11f-e3b2-4fc8-8a7e-74142d5b47b5",
   "metadata": {},
   "outputs": [
    {
     "name": "stdout",
     "output_type": "stream",
     "text": [
      "Withdrawal accepted\n"
     ]
    }
   ],
   "source": [
    "acct1.withdraw(175)"
   ]
  },
  {
   "cell_type": "code",
   "execution_count": 153,
   "id": "787730d1-e909-4e27-8c22-f4e47ad6dc7f",
   "metadata": {},
   "outputs": [
    {
     "data": {
      "text/plain": [
       "0"
      ]
     },
     "execution_count": 153,
     "metadata": {},
     "output_type": "execute_result"
    }
   ],
   "source": [
    "acct1.balance"
   ]
  },
  {
   "cell_type": "code",
   "execution_count": 155,
   "id": "3cdf9ef9-3e0a-4470-92b3-667227d3f3d2",
   "metadata": {},
   "outputs": [
    {
     "data": {
      "text/plain": [
       "<__main__.Account at 0x1f558891bb0>"
      ]
     },
     "execution_count": 155,
     "metadata": {},
     "output_type": "execute_result"
    }
   ],
   "source": [
    "acct1"
   ]
  },
  {
   "cell_type": "code",
   "execution_count": 157,
   "id": "ca160b91-91b2-43ed-bac3-dc41ef20f3dd",
   "metadata": {},
   "outputs": [
    {
     "name": "stdout",
     "output_type": "stream",
     "text": [
      "Account owner: Jose\n",
      "Account balance: $0\n"
     ]
    }
   ],
   "source": [
    "print(acct1)"
   ]
  },
  {
   "cell_type": "code",
   "execution_count": null,
   "id": "38fc4d03-b4ae-4d69-b9b4-c6cc7e9d72e7",
   "metadata": {},
   "outputs": [],
   "source": []
  }
 ],
 "metadata": {
  "kernelspec": {
   "display_name": "Python 3 (ipykernel)",
   "language": "python",
   "name": "python3"
  },
  "language_info": {
   "codemirror_mode": {
    "name": "ipython",
    "version": 3
   },
   "file_extension": ".py",
   "mimetype": "text/x-python",
   "name": "python",
   "nbconvert_exporter": "python",
   "pygments_lexer": "ipython3",
   "version": "3.12.4"
  }
 },
 "nbformat": 4,
 "nbformat_minor": 5
}
