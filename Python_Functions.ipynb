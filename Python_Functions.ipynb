{
 "cells": [
  {
   "cell_type": "code",
   "execution_count": 43,
   "id": "a501f25c-d07e-49a0-b5b1-1e1d0d4ca3fb",
   "metadata": {},
   "outputs": [],
   "source": [
    "def intro_function(name,city,state):\n",
    "    print(f\"My name is {name}, living in {city} in the state of {state}\")"
   ]
  },
  {
   "cell_type": "code",
   "execution_count": 47,
   "id": "94dc72a3-4876-4781-99f8-892f6ff6ae22",
   "metadata": {},
   "outputs": [
    {
     "name": "stdout",
     "output_type": "stream",
     "text": [
      "My name is mahi, living in richardson in the state of texas\n"
     ]
    }
   ],
   "source": [
    "intro_function(\"mahi\",\"richardson\",\"texas\")"
   ]
  },
  {
   "cell_type": "code",
   "execution_count": 79,
   "id": "e4bcaf92-2d96-4f14-94c3-44985a4b781e",
   "metadata": {},
   "outputs": [],
   "source": [
    "def sample_fun(a):\n",
    "    return a"
   ]
  },
  {
   "cell_type": "code",
   "execution_count": 61,
   "id": "89aa3229-1f52-4f7f-8670-acf27c972e4f",
   "metadata": {},
   "outputs": [],
   "source": [
    "result = sample_fun(1)"
   ]
  },
  {
   "cell_type": "code",
   "execution_count": 63,
   "id": "781b6c01-d88c-4900-929b-8a36e5769f85",
   "metadata": {},
   "outputs": [
    {
     "data": {
      "text/plain": [
       "1"
      ]
     },
     "execution_count": 63,
     "metadata": {},
     "output_type": "execute_result"
    }
   ],
   "source": [
    "result"
   ]
  },
  {
   "cell_type": "code",
   "execution_count": 65,
   "id": "4a9a0af1-299d-425a-ae0e-ab8f6d0ad028",
   "metadata": {},
   "outputs": [
    {
     "data": {
      "text/plain": [
       "int"
      ]
     },
     "execution_count": 65,
     "metadata": {},
     "output_type": "execute_result"
    }
   ],
   "source": [
    "type(result)"
   ]
  },
  {
   "cell_type": "code",
   "execution_count": 71,
   "id": "4957f84c-3ad3-4221-ad8d-c09620150638",
   "metadata": {},
   "outputs": [],
   "source": [
    "result=sample_fun(\"mahi\")"
   ]
  },
  {
   "cell_type": "code",
   "execution_count": 73,
   "id": "71395b9b-68e8-4ab5-be1b-15154f8a1125",
   "metadata": {},
   "outputs": [
    {
     "data": {
      "text/plain": [
       "'mahi'"
      ]
     },
     "execution_count": 73,
     "metadata": {},
     "output_type": "execute_result"
    }
   ],
   "source": [
    "result"
   ]
  },
  {
   "cell_type": "code",
   "execution_count": 75,
   "id": "d56ab458-086e-4847-8d80-5702970cc7bc",
   "metadata": {},
   "outputs": [
    {
     "data": {
      "text/plain": [
       "str"
      ]
     },
     "execution_count": 75,
     "metadata": {},
     "output_type": "execute_result"
    }
   ],
   "source": [
    "type(result)"
   ]
  },
  {
   "cell_type": "code",
   "execution_count": 81,
   "id": "3653a33c-77ad-40e8-adf7-aed7a6088180",
   "metadata": {},
   "outputs": [],
   "source": [
    "result=sample_fun([1,2,3])"
   ]
  },
  {
   "cell_type": "code",
   "execution_count": 83,
   "id": "7d4f6600-9858-4e26-9ae3-07d3cac57515",
   "metadata": {},
   "outputs": [
    {
     "data": {
      "text/plain": [
       "[1, 2, 3]"
      ]
     },
     "execution_count": 83,
     "metadata": {},
     "output_type": "execute_result"
    }
   ],
   "source": [
    "result"
   ]
  },
  {
   "cell_type": "code",
   "execution_count": 85,
   "id": "75a03090-03f5-40da-9f36-6fab513273cb",
   "metadata": {},
   "outputs": [
    {
     "data": {
      "text/plain": [
       "list"
      ]
     },
     "execution_count": 85,
     "metadata": {},
     "output_type": "execute_result"
    }
   ],
   "source": [
    "type(result)"
   ]
  },
  {
   "cell_type": "code",
   "execution_count": 142,
   "id": "1afe2041-1c64-4fc4-b37f-0b30c11ea6a9",
   "metadata": {},
   "outputs": [],
   "source": [
    "def odd_even_func(any_num):\n",
    "    num1=[]\n",
    "    num2=[]\n",
    "    for n in any_num:\n",
    "        if n%2==0:\n",
    "            num1.append(n)\n",
    "        else:\n",
    "            num2.append(n)\n",
    "    return num1,num2\n",
    "    "
   ]
  },
  {
   "cell_type": "code",
   "execution_count": 146,
   "id": "45e57a80-1b17-480c-93bc-e367456bf851",
   "metadata": {},
   "outputs": [
    {
     "data": {
      "text/plain": [
       "([4, 6, 2, 4, 2], [3, 3, 7, 9, 5])"
      ]
     },
     "execution_count": 146,
     "metadata": {},
     "output_type": "execute_result"
    }
   ],
   "source": [
    "odd_even_func([3,3,4,7,6,9,2,4,5,2])"
   ]
  },
  {
   "cell_type": "code",
   "execution_count": 152,
   "id": "2de50713-3998-43d7-8651-0011d388116e",
   "metadata": {},
   "outputs": [],
   "source": [
    "evennum,oddnum=odd_even_func([3,2,4,5,3,6,7,3,4,6])"
   ]
  },
  {
   "cell_type": "code",
   "execution_count": 154,
   "id": "222aac1f-8f9b-42b6-a2b9-02dc664cc19f",
   "metadata": {},
   "outputs": [
    {
     "data": {
      "text/plain": [
       "[3, 5, 3, 7, 3]"
      ]
     },
     "execution_count": 154,
     "metadata": {},
     "output_type": "execute_result"
    }
   ],
   "source": [
    "oddnum"
   ]
  },
  {
   "cell_type": "code",
   "execution_count": 156,
   "id": "6f9b9304-8912-42b8-85c2-1ebd5fc774c1",
   "metadata": {},
   "outputs": [
    {
     "data": {
      "text/plain": [
       "[2, 4, 6, 4, 6]"
      ]
     },
     "execution_count": 156,
     "metadata": {},
     "output_type": "execute_result"
    }
   ],
   "source": [
    "evennum"
   ]
  },
  {
   "cell_type": "code",
   "execution_count": null,
   "id": "23ab9777-545a-4e01-a477-9d1757376d36",
   "metadata": {},
   "outputs": [],
   "source": [
    "############# 'EXERCISE 1' ###########"
   ]
  },
  {
   "cell_type": "code",
   "execution_count": 158,
   "id": "8a2e2bb2-7467-440e-8de8-f8cf7ac6ec2a",
   "metadata": {},
   "outputs": [],
   "source": [
    "def myfunc():\n",
    "    print('Hello World')"
   ]
  },
  {
   "cell_type": "code",
   "execution_count": 160,
   "id": "52ff0e2c-354d-400a-a6fa-f89769a2476e",
   "metadata": {},
   "outputs": [
    {
     "name": "stdout",
     "output_type": "stream",
     "text": [
      "Hello World\n"
     ]
    }
   ],
   "source": [
    "myfunc()"
   ]
  },
  {
   "cell_type": "code",
   "execution_count": null,
   "id": "64c18315-bbf6-4169-ac77-113ea85ae5d5",
   "metadata": {},
   "outputs": [],
   "source": [
    "############# 'EXERCISE 2' ###########"
   ]
  },
  {
   "cell_type": "code",
   "execution_count": 162,
   "id": "d2346460-3e5f-4be9-bd52-f5cbe953c644",
   "metadata": {},
   "outputs": [],
   "source": [
    "def myfunc(name):\n",
    "    print(f'Hello {name}')"
   ]
  },
  {
   "cell_type": "code",
   "execution_count": 166,
   "id": "243ca123-4fd5-45bb-aaa7-3f07813b0522",
   "metadata": {},
   "outputs": [
    {
     "name": "stdout",
     "output_type": "stream",
     "text": [
      "Hello mahi\n"
     ]
    }
   ],
   "source": [
    "myfunc(\"mahi\")"
   ]
  },
  {
   "cell_type": "code",
   "execution_count": null,
   "id": "473080e9-e786-4a82-877c-d4531839f51e",
   "metadata": {},
   "outputs": [],
   "source": [
    "############# 'EXERCISE 3' ###########"
   ]
  },
  {
   "cell_type": "code",
   "execution_count": 168,
   "id": "8fde0c76-b5bc-407c-9e84-666da3195fe1",
   "metadata": {},
   "outputs": [],
   "source": [
    "def myfunc(n):\n",
    "    if n:\n",
    "        return 'Hello'\n",
    "    else:\n",
    "        return 'Goodbye'\n",
    "        "
   ]
  },
  {
   "cell_type": "code",
   "execution_count": 172,
   "id": "ab2b2c4c-d4e7-4586-8d50-35d8621f283e",
   "metadata": {},
   "outputs": [
    {
     "data": {
      "text/plain": [
       "'Goodbye'"
      ]
     },
     "execution_count": 172,
     "metadata": {},
     "output_type": "execute_result"
    }
   ],
   "source": [
    "myfunc(False)"
   ]
  },
  {
   "cell_type": "code",
   "execution_count": 174,
   "id": "f8949385-ea13-45da-9545-861efe009dde",
   "metadata": {},
   "outputs": [
    {
     "data": {
      "text/plain": [
       "'Hello'"
      ]
     },
     "execution_count": 174,
     "metadata": {},
     "output_type": "execute_result"
    }
   ],
   "source": [
    "myfunc(True)"
   ]
  },
  {
   "cell_type": "code",
   "execution_count": null,
   "id": "8b534a80-1cc7-4b2d-be86-324fd08ec2e9",
   "metadata": {},
   "outputs": [],
   "source": [
    "############# 'EXERCISE 4' ###########"
   ]
  },
  {
   "cell_type": "code",
   "execution_count": 182,
   "id": "479d3460-9dfb-4e94-b04c-2212fe57289c",
   "metadata": {},
   "outputs": [],
   "source": [
    "def myfunc(x,y,z):\n",
    "    if z:\n",
    "        return x\n",
    "    else:\n",
    "        return y"
   ]
  },
  {
   "cell_type": "code",
   "execution_count": 188,
   "id": "757b0d2b-888e-4945-a33a-ae54c8cf2840",
   "metadata": {},
   "outputs": [
    {
     "data": {
      "text/plain": [
       "True"
      ]
     },
     "execution_count": 188,
     "metadata": {},
     "output_type": "execute_result"
    }
   ],
   "source": [
    "myfunc(True,True,True)"
   ]
  },
  {
   "cell_type": "code",
   "execution_count": 186,
   "id": "19b8c989-6a66-469b-ba24-7465cca8decd",
   "metadata": {},
   "outputs": [
    {
     "data": {
      "text/plain": [
       "True"
      ]
     },
     "execution_count": 186,
     "metadata": {},
     "output_type": "execute_result"
    }
   ],
   "source": [
    "myfunc(False,True,False)"
   ]
  },
  {
   "cell_type": "code",
   "execution_count": null,
   "id": "2f8832f5-eef7-431a-9da7-ab4ec60f511e",
   "metadata": {},
   "outputs": [],
   "source": [
    "############# 'EXERCISE 5' ###########"
   ]
  },
  {
   "cell_type": "code",
   "execution_count": 190,
   "id": "818584ae-e61d-47ac-bb0e-2cc27d67cae2",
   "metadata": {},
   "outputs": [],
   "source": [
    "def myfunc(a,b):\n",
    "    return a+b"
   ]
  },
  {
   "cell_type": "code",
   "execution_count": 198,
   "id": "1c67ea10-ccee-4d26-aa30-bdf641171cd8",
   "metadata": {},
   "outputs": [
    {
     "data": {
      "text/plain": [
       "1503"
      ]
     },
     "execution_count": 198,
     "metadata": {},
     "output_type": "execute_result"
    }
   ],
   "source": [
    "myfunc(43,1460)"
   ]
  },
  {
   "cell_type": "code",
   "execution_count": null,
   "id": "70209350-f1a8-4dd4-b101-66c3911be4ec",
   "metadata": {},
   "outputs": [],
   "source": [
    "############# 'EXERCISE 6' ###########"
   ]
  },
  {
   "cell_type": "code",
   "execution_count": 200,
   "id": "fa68a6f1-0cd9-4dc7-9d9b-3dd6faa845ba",
   "metadata": {},
   "outputs": [],
   "source": [
    "def is_even(n):\n",
    "    if n%2==0:\n",
    "        return True\n",
    "    else:\n",
    "        return False"
   ]
  },
  {
   "cell_type": "code",
   "execution_count": 202,
   "id": "1f4ed8c0-d8e2-46ae-b313-79fb102cc1e3",
   "metadata": {},
   "outputs": [
    {
     "data": {
      "text/plain": [
       "False"
      ]
     },
     "execution_count": 202,
     "metadata": {},
     "output_type": "execute_result"
    }
   ],
   "source": [
    "is_even(3)"
   ]
  },
  {
   "cell_type": "code",
   "execution_count": 204,
   "id": "a84949af-098e-4c47-b6c5-8f42048dcd33",
   "metadata": {},
   "outputs": [
    {
     "data": {
      "text/plain": [
       "True"
      ]
     },
     "execution_count": 204,
     "metadata": {},
     "output_type": "execute_result"
    }
   ],
   "source": [
    "is_even(60)"
   ]
  },
  {
   "cell_type": "code",
   "execution_count": null,
   "id": "f7a849ca-cbaa-42b7-8447-3f9225a7750a",
   "metadata": {},
   "outputs": [],
   "source": [
    "############# 'EXERCISE 7' ###########"
   ]
  },
  {
   "cell_type": "code",
   "execution_count": 206,
   "id": "838fb5e8-3e11-473f-87d4-8fbbdb119bf5",
   "metadata": {},
   "outputs": [],
   "source": [
    "def is_greater(a,b):\n",
    "    if a>b:\n",
    "        return True\n",
    "    else:\n",
    "        return False"
   ]
  },
  {
   "cell_type": "code",
   "execution_count": 208,
   "id": "67aeec4b-2c99-4abd-a0fa-635abbdd4fa6",
   "metadata": {},
   "outputs": [
    {
     "data": {
      "text/plain": [
       "False"
      ]
     },
     "execution_count": 208,
     "metadata": {},
     "output_type": "execute_result"
    }
   ],
   "source": [
    "is_greater(8,12)"
   ]
  },
  {
   "cell_type": "code",
   "execution_count": 210,
   "id": "c5046daf-75fc-48c1-9e74-8b0a84fe878d",
   "metadata": {},
   "outputs": [
    {
     "data": {
      "text/plain": [
       "True"
      ]
     },
     "execution_count": 210,
     "metadata": {},
     "output_type": "execute_result"
    }
   ],
   "source": [
    "is_greater(6,-3)"
   ]
  },
  {
   "cell_type": "code",
   "execution_count": 212,
   "id": "1df14655-aef4-43a7-94f1-60af94fa6d68",
   "metadata": {},
   "outputs": [
    {
     "data": {
      "text/plain": [
       "False"
      ]
     },
     "execution_count": 212,
     "metadata": {},
     "output_type": "execute_result"
    }
   ],
   "source": [
    "is_greater(-3,2)"
   ]
  },
  {
   "cell_type": "code",
   "execution_count": null,
   "id": "4a085622-c5a8-48cc-a106-2377c95d8e87",
   "metadata": {},
   "outputs": [],
   "source": [
    "################## Practice ####################"
   ]
  },
  {
   "cell_type": "code",
   "execution_count": 218,
   "id": "7ab84f5f-8374-440b-82fd-c08dfb80b572",
   "metadata": {},
   "outputs": [],
   "source": [
    "def my_func(*args):\n",
    "    print(args)"
   ]
  },
  {
   "cell_type": "code",
   "execution_count": 220,
   "id": "e5f02d6b-734d-4386-bfab-3c3968eb8b08",
   "metadata": {},
   "outputs": [
    {
     "name": "stdout",
     "output_type": "stream",
     "text": [
      "()\n"
     ]
    }
   ],
   "source": [
    "my_func()"
   ]
  },
  {
   "cell_type": "code",
   "execution_count": 222,
   "id": "17e84df2-522d-4c07-830c-2981d1434a89",
   "metadata": {},
   "outputs": [
    {
     "name": "stdout",
     "output_type": "stream",
     "text": [
      "('name', 'mahi')\n"
     ]
    }
   ],
   "source": [
    "my_func(\"name\",\"mahi\")"
   ]
  },
  {
   "cell_type": "code",
   "execution_count": 224,
   "id": "b57b7d6b-fb41-4527-8b1a-26fdc85de60e",
   "metadata": {},
   "outputs": [
    {
     "name": "stdout",
     "output_type": "stream",
     "text": [
      "(10, 20, 30, 40, 50)\n"
     ]
    }
   ],
   "source": [
    "my_func(10,20,30,40,50)"
   ]
  },
  {
   "cell_type": "code",
   "execution_count": 226,
   "id": "451755ab-6e8b-4411-b4ff-3648c13d9e82",
   "metadata": {},
   "outputs": [],
   "source": [
    "def k_func(**kwargs):\n",
    "    print(kwargs)"
   ]
  },
  {
   "cell_type": "code",
   "execution_count": 232,
   "id": "64db1f6b-eca3-4eb2-9c8a-08b566106f0a",
   "metadata": {},
   "outputs": [
    {
     "name": "stdout",
     "output_type": "stream",
     "text": [
      "{'name': 'mahi', 'age': 26}\n"
     ]
    }
   ],
   "source": [
    "k_func(name=\"mahi\",age=26)"
   ]
  },
  {
   "cell_type": "code",
   "execution_count": 236,
   "id": "6d55611d-9cb8-45dd-93aa-29954e12f478",
   "metadata": {},
   "outputs": [
    {
     "data": {
      "text/plain": [
       "'even'"
      ]
     },
     "execution_count": 236,
     "metadata": {},
     "output_type": "execute_result"
    }
   ],
   "source": [
    "my_func1(2,3,54,1,8,10)"
   ]
  },
  {
   "cell_type": "code",
   "execution_count": 268,
   "id": "6bfac260-86f9-48c5-b07f-935f40e057ba",
   "metadata": {},
   "outputs": [],
   "source": [
    "def ak_func(*args,**kwargs):\n",
    "    print(args, kwargs)"
   ]
  },
  {
   "cell_type": "code",
   "execution_count": 270,
   "id": "9c270960-3648-45a7-ab33-6e87cef9daa8",
   "metadata": {},
   "outputs": [
    {
     "name": "stdout",
     "output_type": "stream",
     "text": [
      "(10, 20, 40, 50) {'name': 'mahi', 'age': 26}\n"
     ]
    }
   ],
   "source": [
    "ak_func(10,20,40,50,name='mahi',age=26)"
   ]
  },
  {
   "cell_type": "code",
   "execution_count": 272,
   "id": "89f59783-7561-4ad2-9d82-f32956bd26d9",
   "metadata": {},
   "outputs": [],
   "source": [
    "def ak_func(*args,**kwargs):\n",
    "    return(args, kwargs)"
   ]
  },
  {
   "cell_type": "code",
   "execution_count": 284,
   "id": "927fea69-9b8e-40ad-b366-4cc51f19aff6",
   "metadata": {},
   "outputs": [
    {
     "data": {
      "text/plain": [
       "((10, 20, 40, 50), {'name': 'mahi', 'age': 26})"
      ]
     },
     "execution_count": 284,
     "metadata": {},
     "output_type": "execute_result"
    }
   ],
   "source": [
    "ak_func(10,20,40,50,name='mahi',age=26)"
   ]
  },
  {
   "cell_type": "code",
   "execution_count": 276,
   "id": "f4cde5b3-0e2f-4865-93e6-f9a1605bd3ac",
   "metadata": {},
   "outputs": [],
   "source": [
    "res=ak_func(10,20,40,50,name='mahi',age=26)"
   ]
  },
  {
   "cell_type": "code",
   "execution_count": 278,
   "id": "4da864d6-9828-48a5-8a84-7bc7c4797756",
   "metadata": {},
   "outputs": [
    {
     "data": {
      "text/plain": [
       "((10, 20, 40, 50), {'name': 'mahi', 'age': 26})"
      ]
     },
     "execution_count": 278,
     "metadata": {},
     "output_type": "execute_result"
    }
   ],
   "source": [
    "res"
   ]
  },
  {
   "cell_type": "code",
   "execution_count": 280,
   "id": "15475a10-9418-4d88-8c87-c8a2eed7d5b7",
   "metadata": {},
   "outputs": [
    {
     "data": {
      "text/plain": [
       "(10, 20, 40, 50)"
      ]
     },
     "execution_count": 280,
     "metadata": {},
     "output_type": "execute_result"
    }
   ],
   "source": [
    "res[0]"
   ]
  },
  {
   "cell_type": "code",
   "execution_count": 282,
   "id": "93b92d05-1b77-46c8-82cf-e4c88e7759dc",
   "metadata": {},
   "outputs": [
    {
     "data": {
      "text/plain": [
       "{'name': 'mahi', 'age': 26}"
      ]
     },
     "execution_count": 282,
     "metadata": {},
     "output_type": "execute_result"
    }
   ],
   "source": [
    "res[1]"
   ]
  },
  {
   "cell_type": "code",
   "execution_count": null,
   "id": "183b8e3d-4e8d-47d2-a0db-dfe4a1ef552c",
   "metadata": {},
   "outputs": [],
   "source": [
    "############# 'EXERCISE 8' ###########"
   ]
  },
  {
   "cell_type": "code",
   "execution_count": 288,
   "id": "bb6f5b8c-b8f5-42be-825b-b3bf911431e1",
   "metadata": {},
   "outputs": [],
   "source": [
    "def myfunc(*args):\n",
    "    return sum(args)"
   ]
  },
  {
   "cell_type": "code",
   "execution_count": 290,
   "id": "17303ece-3a0f-46ac-a9d5-601a9f598db2",
   "metadata": {},
   "outputs": [
    {
     "data": {
      "text/plain": [
       "24"
      ]
     },
     "execution_count": 290,
     "metadata": {},
     "output_type": "execute_result"
    }
   ],
   "source": [
    "myfunc(4,5,6,1,8)"
   ]
  },
  {
   "cell_type": "code",
   "execution_count": 292,
   "id": "8237d5a3-567e-46f9-968d-449831cea4a7",
   "metadata": {},
   "outputs": [
    {
     "data": {
      "text/plain": [
       "0"
      ]
     },
     "execution_count": 292,
     "metadata": {},
     "output_type": "execute_result"
    }
   ],
   "source": [
    "myfunc()"
   ]
  },
  {
   "cell_type": "code",
   "execution_count": 294,
   "id": "27e01a64-c737-4168-8d43-8a536e6b63d3",
   "metadata": {},
   "outputs": [
    {
     "data": {
      "text/plain": [
       "2"
      ]
     },
     "execution_count": 294,
     "metadata": {},
     "output_type": "execute_result"
    }
   ],
   "source": [
    "myfunc(2)"
   ]
  },
  {
   "cell_type": "code",
   "execution_count": null,
   "id": "5e92dc6b-356c-43c0-a995-39fdc5be149b",
   "metadata": {},
   "outputs": [],
   "source": [
    "############# 'EXERCISE 9' ###########"
   ]
  },
  {
   "cell_type": "code",
   "execution_count": 312,
   "id": "124e371b-b4e7-49c1-aaa8-7f66380e11a8",
   "metadata": {},
   "outputs": [],
   "source": [
    "def myfunc(*args):\n",
    "    evenlist=[]\n",
    "    for i in args:\n",
    "        if i%2==0:\n",
    "            evenlist.append(i)\n",
    "        else:\n",
    "            pass\n",
    "    return evenlist   \n",
    "\n"
   ]
  },
  {
   "cell_type": "code",
   "execution_count": 314,
   "id": "e1b649ef-f7e3-482c-aa59-f42c86129c9c",
   "metadata": {},
   "outputs": [
    {
     "data": {
      "text/plain": [
       "[10, 20, 50]"
      ]
     },
     "execution_count": 314,
     "metadata": {},
     "output_type": "execute_result"
    }
   ],
   "source": [
    "myfunc(10,33,20,50,45)"
   ]
  },
  {
   "cell_type": "code",
   "execution_count": null,
   "id": "5f629d0c-b6d2-4b48-b8e4-0d0d37b77967",
   "metadata": {},
   "outputs": [],
   "source": [
    "############# 'EXERCISE 10' ###########"
   ]
  },
  {
   "cell_type": "code",
   "execution_count": 1,
   "id": "9b9c3858-436d-4857-a729-1d818f71270f",
   "metadata": {},
   "outputs": [],
   "source": [
    "def myfunc(s):\n",
    "    s1=''\n",
    "    for i in range(0, len(s)):\n",
    "        \n",
    "        if (i+1)%2==0:\n",
    "            s1=s1+s[i].upper()\n",
    "        else:\n",
    "            s1=s1+s[i].lower()\n",
    "        \n",
    "    print(\"Returned list: \",s1)  "
   ]
  },
  {
   "cell_type": "code",
   "execution_count": 3,
   "id": "cb1cbf29-3b94-4773-aaa7-3b9e7053ac5b",
   "metadata": {},
   "outputs": [
    {
     "name": "stdout",
     "output_type": "stream",
     "text": [
      "Returned list:  aNtHrOpOmOrPhIsM\n"
     ]
    }
   ],
   "source": [
    "myfunc('Anthropomorphism')"
   ]
  },
  {
   "cell_type": "code",
   "execution_count": null,
   "id": "96bc163d-2722-43e5-9d2c-d0b1e35e5436",
   "metadata": {},
   "outputs": [],
   "source": [
    "############## LESSER OF TWO EVENS ################"
   ]
  },
  {
   "cell_type": "code",
   "execution_count": 320,
   "id": "d968de7e-f86b-4970-8ba7-c26aa476a1e7",
   "metadata": {},
   "outputs": [],
   "source": [
    "def lesser_of_two_evens(a,b):\n",
    "    if a%2==0 and b%2==0:\n",
    "        return min(a,b)\n",
    "    else:\n",
    "        return max(a,b)\n",
    "            "
   ]
  },
  {
   "cell_type": "code",
   "execution_count": 322,
   "id": "83d1d106-27d5-4a96-bba8-628460421060",
   "metadata": {},
   "outputs": [
    {
     "data": {
      "text/plain": [
       "2"
      ]
     },
     "execution_count": 322,
     "metadata": {},
     "output_type": "execute_result"
    }
   ],
   "source": [
    "lesser_of_two_evens(2,4)"
   ]
  },
  {
   "cell_type": "code",
   "execution_count": 324,
   "id": "77c272ef-78c5-4d56-99aa-91fd3f4e1d88",
   "metadata": {},
   "outputs": [
    {
     "data": {
      "text/plain": [
       "5"
      ]
     },
     "execution_count": 324,
     "metadata": {},
     "output_type": "execute_result"
    }
   ],
   "source": [
    "lesser_of_two_evens(2,5)"
   ]
  },
  {
   "cell_type": "code",
   "execution_count": 326,
   "id": "bd29ab62-766f-4b7f-90f5-be2ebd722aad",
   "metadata": {},
   "outputs": [
    {
     "data": {
      "text/plain": [
       "7"
      ]
     },
     "execution_count": 326,
     "metadata": {},
     "output_type": "execute_result"
    }
   ],
   "source": [
    "lesser_of_two_evens(5,7)"
   ]
  },
  {
   "cell_type": "code",
   "execution_count": null,
   "id": "e643ec61-3f83-4d2a-ae87-8da63170244c",
   "metadata": {},
   "outputs": [],
   "source": [
    "################ ANIMAL CRACKERS ##############"
   ]
  },
  {
   "cell_type": "code",
   "execution_count": 348,
   "id": "f0580a8f-1a75-4d09-8f24-81433f26c95f",
   "metadata": {},
   "outputs": [],
   "source": [
    "def animal_crackers(words):\n",
    "    wordsplit = words.split()\n",
    "    if wordsplit[0][0]==wordsplit[1][0]:\n",
    "        return True\n",
    "    else:\n",
    "        return False"
   ]
  },
  {
   "cell_type": "code",
   "execution_count": 352,
   "id": "f0bf6506-0810-48b1-ac89-780ae30576e3",
   "metadata": {},
   "outputs": [
    {
     "data": {
      "text/plain": [
       "True"
      ]
     },
     "execution_count": 352,
     "metadata": {},
     "output_type": "execute_result"
    }
   ],
   "source": [
    "animal_crackers('Levelheaded Llama')"
   ]
  },
  {
   "cell_type": "code",
   "execution_count": 354,
   "id": "92486de5-7a39-417b-86b0-910eeed09082",
   "metadata": {},
   "outputs": [
    {
     "data": {
      "text/plain": [
       "False"
      ]
     },
     "execution_count": 354,
     "metadata": {},
     "output_type": "execute_result"
    }
   ],
   "source": [
    "animal_crackers('Crazy Kangaroo')"
   ]
  },
  {
   "cell_type": "code",
   "execution_count": 358,
   "id": "a8076eff-3c8c-4a14-b208-c120ee3e12d1",
   "metadata": {},
   "outputs": [
    {
     "data": {
      "text/plain": [
       "True"
      ]
     },
     "execution_count": 358,
     "metadata": {},
     "output_type": "execute_result"
    }
   ],
   "source": [
    "animal_crackers(\"abgdvfg ajdsjd\")"
   ]
  },
  {
   "cell_type": "code",
   "execution_count": null,
   "id": "db2811ef-f736-4779-b068-bec2b429a81b",
   "metadata": {},
   "outputs": [],
   "source": [
    "###############  MAKES TWENTY #############"
   ]
  },
  {
   "cell_type": "code",
   "execution_count": 364,
   "id": "2c9e9881-1c2b-4db3-b9bb-4d09e8c42f73",
   "metadata": {},
   "outputs": [],
   "source": [
    "def makes_twenty(n1,n2):\n",
    "    return (n1+n2)==20 or n1==20 or n2==20\n"
   ]
  },
  {
   "cell_type": "code",
   "execution_count": 366,
   "id": "ef2cbe2c-59a1-4922-aed7-536a5a4034df",
   "metadata": {},
   "outputs": [
    {
     "data": {
      "text/plain": [
       "True"
      ]
     },
     "execution_count": 366,
     "metadata": {},
     "output_type": "execute_result"
    }
   ],
   "source": [
    "makes_twenty(10,10)"
   ]
  },
  {
   "cell_type": "code",
   "execution_count": 368,
   "id": "1e06a19c-dfc6-48f4-bf72-b0c9e4dec298",
   "metadata": {},
   "outputs": [
    {
     "data": {
      "text/plain": [
       "True"
      ]
     },
     "execution_count": 368,
     "metadata": {},
     "output_type": "execute_result"
    }
   ],
   "source": [
    "makes_twenty(20,2)"
   ]
  },
  {
   "cell_type": "code",
   "execution_count": 370,
   "id": "b57e8feb-1b5d-4858-b4cd-ba05c967849c",
   "metadata": {},
   "outputs": [
    {
     "data": {
      "text/plain": [
       "False"
      ]
     },
     "execution_count": 370,
     "metadata": {},
     "output_type": "execute_result"
    }
   ],
   "source": [
    "makes_twenty(3,8)"
   ]
  },
  {
   "cell_type": "code",
   "execution_count": null,
   "id": "5b009b95-d3a7-4b71-b649-9b4ee4e3c16f",
   "metadata": {},
   "outputs": [],
   "source": [
    "################# OLD MACDONALD #################"
   ]
  },
  {
   "cell_type": "code",
   "execution_count": 394,
   "id": "030b839b-40ee-4965-a55e-d81aab5e7533",
   "metadata": {},
   "outputs": [],
   "source": [
    "def old_macdonald(name):\n",
    "    return name[:3].capitalize() + name[3:].capitalize()\n"
   ]
  },
  {
   "cell_type": "code",
   "execution_count": 396,
   "id": "ce891498-74fb-4ac7-8434-2e2a5c09b149",
   "metadata": {},
   "outputs": [
    {
     "data": {
      "text/plain": [
       "'SahDg'"
      ]
     },
     "execution_count": 396,
     "metadata": {},
     "output_type": "execute_result"
    }
   ],
   "source": [
    "old_macdonald(\"sahdg\")"
   ]
  },
  {
   "cell_type": "code",
   "execution_count": 398,
   "id": "688cd8d9-798d-43cf-94e7-cc51a8f92cf2",
   "metadata": {},
   "outputs": [
    {
     "data": {
      "text/plain": [
       "'NdbDjhdgsdg'"
      ]
     },
     "execution_count": 398,
     "metadata": {},
     "output_type": "execute_result"
    }
   ],
   "source": [
    "old_macdonald(\"ndbdjhdgsdg\")"
   ]
  },
  {
   "cell_type": "code",
   "execution_count": 80,
   "id": "3aeb14a2-7056-4a6f-abcb-0623a30d787f",
   "metadata": {},
   "outputs": [],
   "source": [
    "##### PAPER DOLL: Given a string, return a string where for every character in the original there are three characters\n",
    "\n",
    "def paper_doll(text):\n",
    "    res=''\n",
    "    for i in text:\n",
    "        res = res+ (i*3)\n",
    "    print(res)"
   ]
  },
  {
   "cell_type": "code",
   "execution_count": 82,
   "id": "56b5864f-fd49-44ca-b842-59dc5dc696a4",
   "metadata": {},
   "outputs": [
    {
     "name": "stdout",
     "output_type": "stream",
     "text": [
      "HHHeeellllllooo\n"
     ]
    }
   ],
   "source": [
    "paper_doll('Hello')"
   ]
  },
  {
   "cell_type": "code",
   "execution_count": 84,
   "id": "9c937906-3067-4f4a-bb38-e07415296da5",
   "metadata": {},
   "outputs": [
    {
     "name": "stdout",
     "output_type": "stream",
     "text": [
      "MMMiiissssssiiissssssiiippppppiii\n"
     ]
    }
   ],
   "source": [
    "paper_doll('Mississippi')"
   ]
  },
  {
   "cell_type": "code",
   "execution_count": null,
   "id": "e0c3923a-46c9-492c-b349-819141645c7a",
   "metadata": {},
   "outputs": [],
   "source": [
    "######### BLACKJACK: Given three integers between 1 and 11, if their sum is less than or equal to 21, return their sum. \n",
    "#########If their sum exceeds 21 and there's an eleven, reduce the total sum by 10. Finally, if the sum (even after adjustment) exceeds 21, \n",
    "#########return 'BUST'"
   ]
  },
  {
   "cell_type": "code",
   "execution_count": 114,
   "id": "df5f2172-1c95-4dac-9c9f-13a5f03cb8a7",
   "metadata": {},
   "outputs": [],
   "source": [
    "def blackjack(a,b,c):\n",
    "    if sum([a,b,c])<=21:\n",
    "        return sum([a,b,c])\n",
    "    elif 11 in [a,b,c] and sum([a,b,c])>21:\n",
    "        return sum([a,b,c])-10\n",
    "    else:\n",
    "        return \"Bust\"\n",
    "    "
   ]
  },
  {
   "cell_type": "code",
   "execution_count": 116,
   "id": "65eb72ca-098f-4df1-8543-2d250846ff0d",
   "metadata": {},
   "outputs": [
    {
     "data": {
      "text/plain": [
       "18"
      ]
     },
     "execution_count": 116,
     "metadata": {},
     "output_type": "execute_result"
    }
   ],
   "source": [
    "blackjack(5,6,7)"
   ]
  },
  {
   "cell_type": "code",
   "execution_count": 118,
   "id": "d1072ef0-7afe-4ea0-99e0-cca7fe64691d",
   "metadata": {},
   "outputs": [
    {
     "data": {
      "text/plain": [
       "'Bust'"
      ]
     },
     "execution_count": 118,
     "metadata": {},
     "output_type": "execute_result"
    }
   ],
   "source": [
    "blackjack(9,9,9) "
   ]
  },
  {
   "cell_type": "code",
   "execution_count": 120,
   "id": "c1431edb-94cc-46e4-a1a2-effdd52c07ac",
   "metadata": {},
   "outputs": [
    {
     "data": {
      "text/plain": [
       "19"
      ]
     },
     "execution_count": 120,
     "metadata": {},
     "output_type": "execute_result"
    }
   ],
   "source": [
    "blackjack(9,9,11)"
   ]
  },
  {
   "cell_type": "code",
   "execution_count": null,
   "id": "9396bf36-5b50-459e-b628-8feddd1d8680",
   "metadata": {},
   "outputs": [],
   "source": [
    "############# MASTER YODA: Given a sentence, return a sentence with the words reversed ###################"
   ]
  },
  {
   "cell_type": "code",
   "execution_count": 13,
   "id": "f9fa0ed2-f19e-4ee0-a63b-dd6899afe9a9",
   "metadata": {},
   "outputs": [],
   "source": [
    "def master_yoda(text):\n",
    "    spltext=text.split()\n",
    "    rev_text=spltext[::-1]\n",
    "    return ' '.join(rev_text)\n",
    "    "
   ]
  },
  {
   "cell_type": "code",
   "execution_count": 15,
   "id": "0137aa52-e1b0-4046-83ad-f0f3cfb56cca",
   "metadata": {},
   "outputs": [
    {
     "data": {
      "text/plain": [
       "'home am I'"
      ]
     },
     "execution_count": 15,
     "metadata": {},
     "output_type": "execute_result"
    }
   ],
   "source": [
    "master_yoda('I am home')"
   ]
  },
  {
   "cell_type": "code",
   "execution_count": null,
   "id": "ed36b960-5d79-4d5c-91cb-ca3780d1dadc",
   "metadata": {},
   "outputs": [],
   "source": [
    "########### ALMOST THERE: Given an integer n, return True if n is within 10 of either 100 or 200 #################"
   ]
  },
  {
   "cell_type": "code",
   "execution_count": 17,
   "id": "b2244dd2-a961-4ae3-bc9f-091108f96dda",
   "metadata": {},
   "outputs": [],
   "source": [
    "def almost_there(n):\n",
    "    return ((abs(100 - n) <= 10) or (abs(200 - n) <= 10))"
   ]
  },
  {
   "cell_type": "code",
   "execution_count": 19,
   "id": "c3337844-b2ea-4fce-98d3-07c2cd9aa7f6",
   "metadata": {},
   "outputs": [
    {
     "data": {
      "text/plain": [
       "True"
      ]
     },
     "execution_count": 19,
     "metadata": {},
     "output_type": "execute_result"
    }
   ],
   "source": [
    "almost_there(90)"
   ]
  },
  {
   "cell_type": "code",
   "execution_count": 21,
   "id": "dac8716f-c169-4049-a3dd-30c3664d201a",
   "metadata": {},
   "outputs": [
    {
     "data": {
      "text/plain": [
       "True"
      ]
     },
     "execution_count": 21,
     "metadata": {},
     "output_type": "execute_result"
    }
   ],
   "source": [
    "almost_there(104)"
   ]
  },
  {
   "cell_type": "code",
   "execution_count": 23,
   "id": "1dfb464d-5d87-424c-b8c1-661312214d47",
   "metadata": {},
   "outputs": [
    {
     "data": {
      "text/plain": [
       "False"
      ]
     },
     "execution_count": 23,
     "metadata": {},
     "output_type": "execute_result"
    }
   ],
   "source": [
    "almost_there(150)"
   ]
  },
  {
   "cell_type": "code",
   "execution_count": 25,
   "id": "2e8d6583-fc13-4c35-bad2-25f5c6faf392",
   "metadata": {},
   "outputs": [
    {
     "data": {
      "text/plain": [
       "True"
      ]
     },
     "execution_count": 25,
     "metadata": {},
     "output_type": "execute_result"
    }
   ],
   "source": [
    "almost_there(209)"
   ]
  },
  {
   "cell_type": "code",
   "execution_count": null,
   "id": "de5e1530-0f26-4d06-8aec-61b49d2eccd8",
   "metadata": {},
   "outputs": [],
   "source": [
    "############ find 33 :Given a list of ints, return True if the array contains a 3 next to a 3 somewhere. ######"
   ]
  },
  {
   "cell_type": "code",
   "execution_count": 37,
   "id": "c144c44d-93c1-4893-b087-c1b0a124ecda",
   "metadata": {},
   "outputs": [],
   "source": [
    "def has_33(nums):\n",
    "    for i in range(0,len(nums)-1):\n",
    "        if nums[i]==3 and nums[i+1]==3:\n",
    "            return True\n",
    "        \n",
    "    return False"
   ]
  },
  {
   "cell_type": "code",
   "execution_count": 39,
   "id": "5b15fe4d-f07a-4a6b-948d-d5f068a031ea",
   "metadata": {},
   "outputs": [
    {
     "data": {
      "text/plain": [
       "True"
      ]
     },
     "execution_count": 39,
     "metadata": {},
     "output_type": "execute_result"
    }
   ],
   "source": [
    "has_33([1, 3, 3])"
   ]
  },
  {
   "cell_type": "code",
   "execution_count": 41,
   "id": "dacb5914-595b-40ed-8353-47fd6a2a031b",
   "metadata": {},
   "outputs": [
    {
     "data": {
      "text/plain": [
       "False"
      ]
     },
     "execution_count": 41,
     "metadata": {},
     "output_type": "execute_result"
    }
   ],
   "source": [
    "has_33([1,5,2,3,7])"
   ]
  },
  {
   "cell_type": "code",
   "execution_count": 43,
   "id": "3239cefb-2813-4f32-b711-c2d13a82562b",
   "metadata": {},
   "outputs": [
    {
     "data": {
      "text/plain": [
       "True"
      ]
     },
     "execution_count": 43,
     "metadata": {},
     "output_type": "execute_result"
    }
   ],
   "source": [
    "has_33([1,3,3,4,6,3,3,5])"
   ]
  }
 ],
 "metadata": {
  "kernelspec": {
   "display_name": "Python 3 (ipykernel)",
   "language": "python",
   "name": "python3"
  },
  "language_info": {
   "codemirror_mode": {
    "name": "ipython",
    "version": 3
   },
   "file_extension": ".py",
   "mimetype": "text/x-python",
   "name": "python",
   "nbconvert_exporter": "python",
   "pygments_lexer": "ipython3",
   "version": "3.12.4"
  }
 },
 "nbformat": 4,
 "nbformat_minor": 5
}
