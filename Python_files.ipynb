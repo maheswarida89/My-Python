{
 "cells": [
  {
   "cell_type": "code",
   "execution_count": 1,
   "id": "1e44741e-e3d5-482c-b901-76fef02803ea",
   "metadata": {},
   "outputs": [],
   "source": [
    "with open('test.txt',mode='w') as t:\n",
    "    t.write('Hello World')"
   ]
  },
  {
   "cell_type": "code",
   "execution_count": 3,
   "id": "56e1eb06-d4a4-4bcf-818d-5111cc195f7e",
   "metadata": {},
   "outputs": [
    {
     "name": "stdout",
     "output_type": "stream",
     "text": [
      "Hello World\n"
     ]
    }
   ],
   "source": [
    "with open('test.txt', mode='r') as t:\n",
    "    print(t.read())\n"
   ]
  },
  {
   "cell_type": "code",
   "execution_count": 5,
   "id": "e7dcf18a-ee71-4e7f-99e2-9ca69c021e4c",
   "metadata": {},
   "outputs": [],
   "source": [
    "t.close()"
   ]
  },
  {
   "cell_type": "code",
   "execution_count": 11,
   "id": "42bbfb24-7c7d-4da8-965d-f76f574af0e5",
   "metadata": {},
   "outputs": [],
   "source": [
    "myfile=open('test.txt')"
   ]
  },
  {
   "cell_type": "code",
   "execution_count": 13,
   "id": "350cb62b-d2c2-41b2-8342-dad1b3243380",
   "metadata": {},
   "outputs": [
    {
     "data": {
      "text/plain": [
       "'djhfdjfhjsegjhdjseh\\n'"
      ]
     },
     "execution_count": 13,
     "metadata": {},
     "output_type": "execute_result"
    }
   ],
   "source": [
    "myfile.read()"
   ]
  },
  {
   "cell_type": "code",
   "execution_count": 20,
   "id": "95e14453-c6e0-4004-a016-bfa840e5d219",
   "metadata": {},
   "outputs": [
    {
     "data": {
      "text/plain": [
       "''"
      ]
     },
     "execution_count": 20,
     "metadata": {},
     "output_type": "execute_result"
    }
   ],
   "source": [
    "a"
   ]
  },
  {
   "cell_type": "code",
   "execution_count": 24,
   "id": "91b6e5d1-bdbe-4d4d-be1d-14500693b8ea",
   "metadata": {},
   "outputs": [
    {
     "data": {
      "text/plain": [
       "0"
      ]
     },
     "execution_count": 24,
     "metadata": {},
     "output_type": "execute_result"
    }
   ],
   "source": [
    "myfile.seek(0)"
   ]
  },
  {
   "cell_type": "code",
   "execution_count": 30,
   "id": "e65d9aa6-397c-42d6-b6cf-2d2c13819fc3",
   "metadata": {},
   "outputs": [
    {
     "data": {
      "text/plain": [
       "'djhfdjfhjsegjhdjseh\\n'"
      ]
     },
     "execution_count": 30,
     "metadata": {},
     "output_type": "execute_result"
    }
   ],
   "source": [
    "a"
   ]
  },
  {
   "cell_type": "code",
   "execution_count": 15,
   "id": "c34545a0-8822-4d95-b09e-c55bdc80d84a",
   "metadata": {},
   "outputs": [],
   "source": [
    "myfile.close()"
   ]
  },
  {
   "cell_type": "code",
   "execution_count": 19,
   "id": "e644b19b-fc49-4203-848f-6cd57cbdf534",
   "metadata": {},
   "outputs": [
    {
     "ename": "ValueError",
     "evalue": "I/O operation on closed file.",
     "output_type": "error",
     "traceback": [
      "\u001b[1;31m---------------------------------------------------------------------------\u001b[0m",
      "\u001b[1;31mValueError\u001b[0m                                Traceback (most recent call last)",
      "Cell \u001b[1;32mIn[19], line 1\u001b[0m\n\u001b[1;32m----> 1\u001b[0m myfile\u001b[38;5;241m.\u001b[39mread()\n",
      "\u001b[1;31mValueError\u001b[0m: I/O operation on closed file."
     ]
    }
   ],
   "source": [
    "myfile.read()"
   ]
  },
  {
   "cell_type": "code",
   "execution_count": 1,
   "id": "387fd1d7-dda3-4bfd-a3eb-e5c9f5cb9de2",
   "metadata": {},
   "outputs": [],
   "source": [
    "with open('test.txt',mode='a') as t:\n",
    "    t.write('this is a test line')"
   ]
  },
  {
   "cell_type": "code",
   "execution_count": 15,
   "id": "4510cd94-c703-4a46-8e43-72e876e08c62",
   "metadata": {},
   "outputs": [
    {
     "name": "stdout",
     "output_type": "stream",
     "text": [
      "djhfdjfhjsegjhdjseh\n",
      "this is a test line\n"
     ]
    }
   ],
   "source": [
    "with open('test.txt',mode='r') as t:\n",
    "      myfile = print(t.read())"
   ]
  },
  {
   "cell_type": "code",
   "execution_count": null,
   "id": "ae42c324-3e45-481a-96f0-f084e43880d9",
   "metadata": {},
   "outputs": [],
   "source": []
  }
 ],
 "metadata": {
  "kernelspec": {
   "display_name": "Python 3 (ipykernel)",
   "language": "python",
   "name": "python3"
  },
  "language_info": {
   "codemirror_mode": {
    "name": "ipython",
    "version": 3
   },
   "file_extension": ".py",
   "mimetype": "text/x-python",
   "name": "python",
   "nbconvert_exporter": "python",
   "pygments_lexer": "ipython3",
   "version": "3.12.4"
  }
 },
 "nbformat": 4,
 "nbformat_minor": 5
}
