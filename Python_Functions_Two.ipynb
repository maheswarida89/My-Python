{
 "cells": [
  {
   "cell_type": "code",
   "execution_count": 11,
   "id": "2a6af1de-b9fd-46fa-be1e-206d1f44f0b3",
   "metadata": {},
   "outputs": [],
   "source": [
    "# Question 1 - volume of sphere\n",
    "def vol(rad):\n",
    "    return (4/3)*3.14*(rad**3)"
   ]
  },
  {
   "cell_type": "code",
   "execution_count": 13,
   "id": "9025f75c-202c-4d39-a458-6a68e6083c50",
   "metadata": {},
   "outputs": [
    {
     "data": {
      "text/plain": [
       "33.49333333333333"
      ]
     },
     "execution_count": 13,
     "metadata": {},
     "output_type": "execute_result"
    }
   ],
   "source": [
    "vol(2)"
   ]
  },
  {
   "cell_type": "code",
   "execution_count": 15,
   "id": "65771204-a116-476f-b932-0fa9898db8e8",
   "metadata": {},
   "outputs": [
    {
     "data": {
      "text/plain": [
       "904.3199999999999"
      ]
     },
     "execution_count": 15,
     "metadata": {},
     "output_type": "execute_result"
    }
   ],
   "source": [
    "vol(6)"
   ]
  },
  {
   "cell_type": "code",
   "execution_count": 31,
   "id": "3dd31af1-4f8c-4323-af48-6cbcdbf1582a",
   "metadata": {},
   "outputs": [],
   "source": [
    "# Question 2  - number in given range\n",
    "def ran_check(num,low,high):\n",
    "    return num in range(low,high+1)"
   ]
  },
  {
   "cell_type": "code",
   "execution_count": 33,
   "id": "fa867fa6-86f9-4239-837c-db11a2a653aa",
   "metadata": {},
   "outputs": [
    {
     "data": {
      "text/plain": [
       "True"
      ]
     },
     "execution_count": 33,
     "metadata": {},
     "output_type": "execute_result"
    }
   ],
   "source": [
    "ran_check(5,2,7)"
   ]
  },
  {
   "cell_type": "code",
   "execution_count": 35,
   "id": "778199f4-8510-4b3a-bb9c-ce0eb95346cc",
   "metadata": {},
   "outputs": [
    {
     "data": {
      "text/plain": [
       "True"
      ]
     },
     "execution_count": 35,
     "metadata": {},
     "output_type": "execute_result"
    }
   ],
   "source": [
    "ran_check(3,1,10)"
   ]
  },
  {
   "cell_type": "code",
   "execution_count": 37,
   "id": "cb3227c0-2ac8-48af-8781-30818518f6c4",
   "metadata": {},
   "outputs": [
    {
     "data": {
      "text/plain": [
       "False"
      ]
     },
     "execution_count": 37,
     "metadata": {},
     "output_type": "execute_result"
    }
   ],
   "source": [
    "ran_check(2,6,20)"
   ]
  },
  {
   "cell_type": "code",
   "execution_count": 39,
   "id": "7b8466ce-9b04-4465-acf1-8acb2653dc0c",
   "metadata": {},
   "outputs": [
    {
     "data": {
      "text/plain": [
       "True"
      ]
     },
     "execution_count": 39,
     "metadata": {},
     "output_type": "execute_result"
    }
   ],
   "source": [
    "ran_check(2,2,4)"
   ]
  },
  {
   "cell_type": "code",
   "execution_count": 41,
   "id": "a4946ac1-69ec-4ce5-9a66-3bf35cd00aa3",
   "metadata": {},
   "outputs": [
    {
     "data": {
      "text/plain": [
       "True"
      ]
     },
     "execution_count": 41,
     "metadata": {},
     "output_type": "execute_result"
    }
   ],
   "source": [
    "ran_check(3,2,3)"
   ]
  },
  {
   "cell_type": "code",
   "execution_count": 27,
   "id": "dc3bc299-901c-414e-b93e-4bbfb6dbb40f",
   "metadata": {},
   "outputs": [],
   "source": [
    "# Question 3 - no. of upper and lower case letter\n",
    "def up_low(s):\n",
    "    upnum=0\n",
    "    lownum=0\n",
    "    for i in s:\n",
    "        if i.isupper():\n",
    "            upnum=upnum+1\n",
    "        elif i.islower():\n",
    "            lownum=lownum+1\n",
    "        else:\n",
    "            pass\n",
    "\n",
    "    print(\"Original string: \",s)\n",
    "    print(\"No. of Upper case characters : \",upnum)\n",
    "    print(\"No. of Lower case characters :  \",lownum)\n",
    "            "
   ]
  },
  {
   "cell_type": "code",
   "execution_count": 29,
   "id": "15b1d78a-5bfb-4173-acf2-0f3883ed1ea1",
   "metadata": {},
   "outputs": [
    {
     "name": "stdout",
     "output_type": "stream",
     "text": [
      "Original string:  Hello Mr. Rogers, how are you this fine Tuesday?\n",
      "No. of Upper case characters :  4\n",
      "No. of Lower case characters :   33\n"
     ]
    }
   ],
   "source": [
    "up_low('Hello Mr. Rogers, how are you this fine Tuesday?')"
   ]
  },
  {
   "cell_type": "code",
   "execution_count": null,
   "id": "452a3f5c-1f3f-4946-bf2e-942842daad24",
   "metadata": {},
   "outputs": [],
   "source": [
    "# Question 4 - Write a Python function that takes a list and returns a new list with unique elements of the first list."
   ]
  },
  {
   "cell_type": "code",
   "execution_count": 31,
   "id": "22dc6210-ceb6-4cdf-b902-0aa97ae611b6",
   "metadata": {},
   "outputs": [],
   "source": [
    "def unique_list(lst):\n",
    "    new_list = []\n",
    "    for i in lst:\n",
    "        if i not in new_list:\n",
    "            new_list.append(i)\n",
    "    print(\"Sample list: \",lst)\n",
    "    print(\"Unique list: \",new_list)"
   ]
  },
  {
   "cell_type": "code",
   "execution_count": 33,
   "id": "e292c257-a9be-46f2-af10-0bd95996f73b",
   "metadata": {},
   "outputs": [
    {
     "name": "stdout",
     "output_type": "stream",
     "text": [
      "Sample list:  [1, 1, 1, 1, 2, 2, 3, 3, 3, 3, 4, 5]\n",
      "Unique list:  [1, 2, 3, 4, 5]\n"
     ]
    }
   ],
   "source": [
    "unique_list([1,1,1,1,2,2,3,3,3,3,4,5])"
   ]
  },
  {
   "cell_type": "code",
   "execution_count": null,
   "id": "63615931-b35a-4246-b2b3-aef7e2adc04e",
   "metadata": {},
   "outputs": [],
   "source": [
    "# Question 5 - Write a Python function to multiply all the numbers in a list."
   ]
  },
  {
   "cell_type": "code",
   "execution_count": 39,
   "id": "2f62cb35-440d-4220-b55f-aa751ef02e17",
   "metadata": {},
   "outputs": [],
   "source": [
    "def multiply(numbers):\n",
    "    res=1\n",
    "    for i in numbers:\n",
    "        res=res*i\n",
    "    print(\"Sample List : \",numbers)\n",
    "    print(\"Expected Output : \",res)\n",
    "    "
   ]
  },
  {
   "cell_type": "code",
   "execution_count": 41,
   "id": "9971c52f-a67f-4e48-ba4b-ab286cdcb0f1",
   "metadata": {},
   "outputs": [
    {
     "name": "stdout",
     "output_type": "stream",
     "text": [
      "Sample List :  [1, 2, 3, -4]\n",
      "Expected Output :  -24\n"
     ]
    }
   ],
   "source": [
    "multiply([1,2,3,-4])"
   ]
  },
  {
   "cell_type": "code",
   "execution_count": 43,
   "id": "959915ed-dd84-4c03-aaf7-0952684829f2",
   "metadata": {},
   "outputs": [
    {
     "name": "stdout",
     "output_type": "stream",
     "text": [
      "Sample List :  [3, 4, 2, 8, 9]\n",
      "Expected Output :  1728\n"
     ]
    }
   ],
   "source": [
    "multiply([3,4,2,8,9])"
   ]
  },
  {
   "cell_type": "code",
   "execution_count": 45,
   "id": "ccc0c42c-f254-4ff2-b53d-f93bc3495686",
   "metadata": {},
   "outputs": [
    {
     "name": "stdout",
     "output_type": "stream",
     "text": [
      "Sample List :  [5, 3, 0]\n",
      "Expected Output :  0\n"
     ]
    }
   ],
   "source": [
    "multiply([5,3,0])"
   ]
  },
  {
   "cell_type": "code",
   "execution_count": null,
   "id": "3e42b38c-20e5-42d3-8a5d-b6aea07e5d04",
   "metadata": {},
   "outputs": [],
   "source": [
    "# Question 6 - Write a Python function that checks whether a passed in string is palindrome or not."
   ]
  },
  {
   "cell_type": "code",
   "execution_count": 47,
   "id": "9f0a0348-1291-41c1-9818-167c61bec50e",
   "metadata": {},
   "outputs": [],
   "source": [
    "def palindrome(s):\n",
    "    s = s.replace(' ','') \n",
    "    return s == s[::-1]"
   ]
  },
  {
   "cell_type": "code",
   "execution_count": 49,
   "id": "82fc88a0-cdb9-4a61-9959-b688d594b35b",
   "metadata": {},
   "outputs": [
    {
     "data": {
      "text/plain": [
       "True"
      ]
     },
     "execution_count": 49,
     "metadata": {},
     "output_type": "execute_result"
    }
   ],
   "source": [
    "palindrome('helleh')"
   ]
  },
  {
   "cell_type": "code",
   "execution_count": 51,
   "id": "60383ec3-a1ae-4ce0-bb4e-96a839b82caf",
   "metadata": {},
   "outputs": [
    {
     "data": {
      "text/plain": [
       "True"
      ]
     },
     "execution_count": 51,
     "metadata": {},
     "output_type": "execute_result"
    }
   ],
   "source": [
    "palindrome('level')"
   ]
  },
  {
   "cell_type": "code",
   "execution_count": 53,
   "id": "0ea3bf4b-4d85-4c6b-a732-01364ad0e68c",
   "metadata": {},
   "outputs": [
    {
     "data": {
      "text/plain": [
       "False"
      ]
     },
     "execution_count": 53,
     "metadata": {},
     "output_type": "execute_result"
    }
   ],
   "source": [
    "palindrome('hsdga')"
   ]
  },
  {
   "cell_type": "code",
   "execution_count": null,
   "id": "0385efae-50a7-4af3-a405-b837357115d4",
   "metadata": {},
   "outputs": [],
   "source": []
  }
 ],
 "metadata": {
  "kernelspec": {
   "display_name": "Python 3 (ipykernel)",
   "language": "python",
   "name": "python3"
  },
  "language_info": {
   "codemirror_mode": {
    "name": "ipython",
    "version": 3
   },
   "file_extension": ".py",
   "mimetype": "text/x-python",
   "name": "python",
   "nbconvert_exporter": "python",
   "pygments_lexer": "ipython3",
   "version": "3.12.4"
  }
 },
 "nbformat": 4,
 "nbformat_minor": 5
}
