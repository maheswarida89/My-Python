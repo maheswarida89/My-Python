{
 "cells": [
  {
   "cell_type": "code",
   "execution_count": 1,
   "id": "0eb600d2-fa11-4553-904f-42235d4c072a",
   "metadata": {},
   "outputs": [
    {
     "name": "stdout",
     "output_type": "stream",
     "text": [
      "('one', 1, 'hello')\n",
      "('two', 2, 'hello')\n",
      "('three', 3, 'hello')\n"
     ]
    }
   ],
   "source": [
    "list1 = ['one','two','three','four']\n",
    "list2 = [1,2,3,4,5]\n",
    "list3 = ['hello','hello','hello']\n",
    "for i in zip(list1,list2,list3):\n",
    "    print(i)"
   ]
  },
  {
   "cell_type": "code",
   "execution_count": 7,
   "id": "70b0233b-b695-4254-8ac4-45278494a572",
   "metadata": {},
   "outputs": [
    {
     "name": "stdout",
     "output_type": "stream",
     "text": [
      "Number 1 is odd\n",
      "Number 2 is even\n",
      "Number 3 is odd\n",
      "Number 4 is even\n",
      "Number 5 is odd\n",
      "Number 6 is even\n",
      "Number 7 is odd\n",
      "Number 8 is even\n",
      "Number 9 is odd\n",
      "Number 10 is even\n"
     ]
    }
   ],
   "source": [
    "l1=[1,2,3,4,5,6,7,8,9,10]\n",
    "for i in l1:\n",
    "    if i%2==0:\n",
    "        print('Number {} is even'.format(i))\n",
    "    else:\n",
    "        print('Number {} is odd'.format(i))"
   ]
  },
  {
   "cell_type": "code",
   "execution_count": 14,
   "id": "c32831e3-a51e-4f86-9fe7-1083b870b49d",
   "metadata": {},
   "outputs": [
    {
     "name": "stdin",
     "output_type": "stream",
     "text": [
      "enter a number: 4\n"
     ]
    }
   ],
   "source": [
    "res = int(input(\"enter a number:\"))"
   ]
  },
  {
   "cell_type": "code",
   "execution_count": 16,
   "id": "096e7901-8387-49e8-9326-0e0f6d628dbc",
   "metadata": {},
   "outputs": [
    {
     "data": {
      "text/plain": [
       "4"
      ]
     },
     "execution_count": 16,
     "metadata": {},
     "output_type": "execute_result"
    }
   ],
   "source": [
    "res"
   ]
  },
  {
   "cell_type": "code",
   "execution_count": 18,
   "id": "07e9ad8b-d97c-4f58-8842-c2499ba125ad",
   "metadata": {},
   "outputs": [
    {
     "data": {
      "text/plain": [
       "1"
      ]
     },
     "execution_count": 18,
     "metadata": {},
     "output_type": "execute_result"
    }
   ],
   "source": [
    "min(1,2,3)"
   ]
  },
  {
   "cell_type": "code",
   "execution_count": 32,
   "id": "d0eebc74-fcd2-4262-b7d5-6c33f2b5024d",
   "metadata": {},
   "outputs": [
    {
     "data": {
      "text/plain": [
       "'one'"
      ]
     },
     "execution_count": 32,
     "metadata": {},
     "output_type": "execute_result"
    }
   ],
   "source": [
    "min({'one':1,'two':2})"
   ]
  },
  {
   "cell_type": "code",
   "execution_count": 34,
   "id": "7f9088ed-3eea-4666-957c-3e5ae64f2106",
   "metadata": {},
   "outputs": [
    {
     "data": {
      "text/plain": [
       "21"
      ]
     },
     "execution_count": 34,
     "metadata": {},
     "output_type": "execute_result"
    }
   ],
   "source": [
    "d={'ddsd':22,'yru':21}\n",
    "min(d.values())"
   ]
  },
  {
   "cell_type": "code",
   "execution_count": null,
   "id": "23cb6ff3-c4ff-4dfe-bc02-e64b16ba7bf7",
   "metadata": {},
   "outputs": [],
   "source": [
    "############# Problem 1 ###############"
   ]
  },
  {
   "cell_type": "code",
   "execution_count": 38,
   "id": "e76a4318-f1a9-422b-8975-8b09256d3fc7",
   "metadata": {},
   "outputs": [],
   "source": [
    "st = 'Print only the words that start with s in this sentence'\n",
    "spl = st.split()"
   ]
  },
  {
   "cell_type": "code",
   "execution_count": 40,
   "id": "4d177ba3-6dcd-42bc-9456-fdcd7975e1b4",
   "metadata": {},
   "outputs": [
    {
     "data": {
      "text/plain": [
       "['Print',\n",
       " 'only',\n",
       " 'the',\n",
       " 'words',\n",
       " 'that',\n",
       " 'start',\n",
       " 'with',\n",
       " 's',\n",
       " 'in',\n",
       " 'this',\n",
       " 'sentence']"
      ]
     },
     "execution_count": 40,
     "metadata": {},
     "output_type": "execute_result"
    }
   ],
   "source": [
    "spl"
   ]
  },
  {
   "cell_type": "code",
   "execution_count": 42,
   "id": "247ae036-550b-470e-beaf-9c38860f04d4",
   "metadata": {},
   "outputs": [
    {
     "name": "stdout",
     "output_type": "stream",
     "text": [
      "start\n",
      "s\n",
      "sentence\n"
     ]
    }
   ],
   "source": [
    "for eachword in spl:\n",
    "    if eachword[0]=='s':\n",
    "        print(eachword)\n"
   ]
  },
  {
   "cell_type": "code",
   "execution_count": null,
   "id": "36d60ce1-8b72-4755-904b-25a607cbbfbe",
   "metadata": {},
   "outputs": [],
   "source": [
    "################# Problem 2 ####################"
   ]
  },
  {
   "cell_type": "code",
   "execution_count": 44,
   "id": "e6d95cfa-41e1-4bcd-948c-f6c3dc4f84b5",
   "metadata": {},
   "outputs": [
    {
     "name": "stdout",
     "output_type": "stream",
     "text": [
      "0\n",
      "2\n",
      "4\n",
      "6\n",
      "8\n",
      "10\n"
     ]
    }
   ],
   "source": [
    "for i in range(0,11,2):\n",
    "    print(i)"
   ]
  },
  {
   "cell_type": "code",
   "execution_count": null,
   "id": "389d2749-589f-44da-b91d-94ed8ca83706",
   "metadata": {},
   "outputs": [],
   "source": [
    "################## Problem 3 #####################"
   ]
  },
  {
   "cell_type": "code",
   "execution_count": 64,
   "id": "a4017991-e128-48ab-b55c-4a1165e14df1",
   "metadata": {},
   "outputs": [
    {
     "name": "stdout",
     "output_type": "stream",
     "text": [
      "word\n",
      "in\n",
      "this\n",
      "sentence\n",
      "that\n",
      "an\n",
      "even\n",
      "number\n",
      "of\n"
     ]
    }
   ],
   "source": [
    "st1 = \"Print every word in this sentence that has an even number of letters\"\n",
    "spl1 = st1.split()\n",
    "for s in spl1:\n",
    "    c=0\n",
    "    for i in s:\n",
    "        c=c+1\n",
    "    if c%2==0:\n",
    "        print(s)\n"
   ]
  },
  {
   "cell_type": "code",
   "execution_count": null,
   "id": "8dce07a5-c4cf-422b-8c71-0467c851064f",
   "metadata": {},
   "outputs": [],
   "source": [
    "################### Problem 4 #######################"
   ]
  },
  {
   "cell_type": "code",
   "execution_count": 102,
   "id": "d6a06828-24ad-4791-9258-dd9f0d4b427e",
   "metadata": {},
   "outputs": [
    {
     "name": "stdout",
     "output_type": "stream",
     "text": [
      "1\n",
      "2\n",
      "Fizz\n",
      "4\n",
      "Buzz\n",
      "Fizz\n",
      "7\n",
      "8\n",
      "Fizz\n",
      "Buzz\n",
      "11\n",
      "Fizz\n",
      "13\n",
      "14\n",
      "FizzBuzz\n",
      "16\n",
      "17\n",
      "Fizz\n",
      "19\n",
      "Buzz\n",
      "Fizz\n",
      "22\n",
      "23\n",
      "Fizz\n",
      "Buzz\n",
      "26\n",
      "Fizz\n",
      "28\n",
      "29\n",
      "FizzBuzz\n",
      "31\n",
      "32\n",
      "Fizz\n",
      "34\n",
      "Buzz\n",
      "Fizz\n",
      "37\n",
      "38\n",
      "Fizz\n",
      "Buzz\n",
      "41\n",
      "Fizz\n",
      "43\n",
      "44\n",
      "FizzBuzz\n",
      "46\n",
      "47\n",
      "Fizz\n",
      "49\n",
      "Buzz\n",
      "Fizz\n",
      "52\n",
      "53\n",
      "Fizz\n",
      "Buzz\n",
      "56\n",
      "Fizz\n",
      "58\n",
      "59\n",
      "FizzBuzz\n",
      "61\n",
      "62\n",
      "Fizz\n",
      "64\n",
      "Buzz\n",
      "Fizz\n",
      "67\n",
      "68\n",
      "Fizz\n",
      "Buzz\n",
      "71\n",
      "Fizz\n",
      "73\n",
      "74\n",
      "FizzBuzz\n",
      "76\n",
      "77\n",
      "Fizz\n",
      "79\n",
      "Buzz\n",
      "Fizz\n",
      "82\n",
      "83\n",
      "Fizz\n",
      "Buzz\n",
      "86\n",
      "Fizz\n",
      "88\n",
      "89\n",
      "FizzBuzz\n",
      "91\n",
      "92\n",
      "Fizz\n",
      "94\n",
      "Buzz\n",
      "Fizz\n",
      "97\n",
      "98\n",
      "Fizz\n",
      "Buzz\n"
     ]
    }
   ],
   "source": [
    "for i in range(1,101):\n",
    "    if i%3==0:\n",
    "        if i%5==0:\n",
    "            print(\"FizzBuzz\")\n",
    "        else:\n",
    "            print(\"Fizz\")\n",
    "    elif i%5==0:\n",
    "        print(\"Buzz\")\n",
    "    else:\n",
    "        print(i)\n"
   ]
  },
  {
   "cell_type": "code",
   "execution_count": null,
   "id": "b2cee442-2713-4065-8387-a66197b78de3",
   "metadata": {},
   "outputs": [],
   "source": [
    "###################### ' Problem 5 ' #######################"
   ]
  },
  {
   "cell_type": "code",
   "execution_count": 108,
   "id": "f0c0ff7b-fbc1-4701-a77b-a27aebdcffd9",
   "metadata": {},
   "outputs": [],
   "source": [
    "myres=[i for i in range(1,51) if i%3==0]"
   ]
  },
  {
   "cell_type": "code",
   "execution_count": 110,
   "id": "ec560120-5c47-4b39-a44e-e5ebaeccacd0",
   "metadata": {},
   "outputs": [
    {
     "data": {
      "text/plain": [
       "[3, 6, 9, 12, 15, 18, 21, 24, 27, 30, 33, 36, 39, 42, 45, 48]"
      ]
     },
     "execution_count": 110,
     "metadata": {},
     "output_type": "execute_result"
    }
   ],
   "source": [
    "myres"
   ]
  }
 ],
 "metadata": {
  "kernelspec": {
   "display_name": "Python 3 (ipykernel)",
   "language": "python",
   "name": "python3"
  },
  "language_info": {
   "codemirror_mode": {
    "name": "ipython",
    "version": 3
   },
   "file_extension": ".py",
   "mimetype": "text/x-python",
   "name": "python",
   "nbconvert_exporter": "python",
   "pygments_lexer": "ipython3",
   "version": "3.12.4"
  }
 },
 "nbformat": 4,
 "nbformat_minor": 5
}
