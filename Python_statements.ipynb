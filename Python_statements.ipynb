{
 "cells": [
  {
   "cell_type": "code",
   "execution_count": 3,
   "id": "5277db70-8dd6-47f5-b421-2ebb72a76218",
   "metadata": {},
   "outputs": [
    {
     "name": "stdout",
     "output_type": "stream",
     "text": [
      "Python course\n"
     ]
    }
   ],
   "source": [
    "a='work'\n",
    "if a=='python':\n",
    "    print(\"Start working\")\n",
    "else :\n",
    "    print(\"Python course\")"
   ]
  },
  {
   "cell_type": "code",
   "execution_count": 5,
   "id": "902b054c-b69e-418b-b7b6-547781fb18d0",
   "metadata": {},
   "outputs": [
    {
     "name": "stdout",
     "output_type": "stream",
     "text": [
      "quotient is 2\n"
     ]
    }
   ],
   "source": [
    "a=10\n",
    "b=5\n",
    "if a/b==2:\n",
    "    print(\"quotient is 2\")\n",
    "else:\n",
    "    print(\"error\")"
   ]
  },
  {
   "cell_type": "code",
   "execution_count": 7,
   "id": "55a7eda7-98df-4399-b443-de5d94581d9f",
   "metadata": {},
   "outputs": [
    {
     "name": "stdout",
     "output_type": "stream",
     "text": [
      "error\n"
     ]
    }
   ],
   "source": [
    "a=10\n",
    "b=5\n",
    "if a/b!=2:\n",
    "    print(\"quotient is 2\")\n",
    "else:\n",
    "    print(\"error\")"
   ]
  },
  {
   "cell_type": "code",
   "execution_count": 19,
   "id": "7cc4c9b6-3487-4efe-87a5-84d66ce7f2a7",
   "metadata": {},
   "outputs": [
    {
     "name": "stdout",
     "output_type": "stream",
     "text": [
      "15\n"
     ]
    }
   ],
   "source": [
    "a=10\n",
    "b=5\n",
    "c=a+b\n",
    "if c==2:\n",
    "    print('error')\n",
    "elif c==15:\n",
    "    print(c)\n",
    "else:\n",
    "    print(\"not applicable\")"
   ]
  },
  {
   "cell_type": "code",
   "execution_count": 35,
   "id": "c74d8f94-7ce8-4733-825b-0b3763575a55",
   "metadata": {},
   "outputs": [
    {
     "name": "stdout",
     "output_type": "stream",
     "text": [
      "6\n"
     ]
    }
   ],
   "source": [
    "a=6\n",
    "b=5\n",
    "c=a-b\n",
    "if a<b:\n",
    "    print(b)\n",
    "elif a<c:\n",
    "    print(c)\n",
    "else:\n",
    "    print(a)"
   ]
  },
  {
   "cell_type": "code",
   "execution_count": 47,
   "id": "5931120d-cd1c-4c43-8aea-3bac17050798",
   "metadata": {},
   "outputs": [
    {
     "name": "stdout",
     "output_type": "stream",
     "text": [
      "h\n",
      "e\n",
      "l\n",
      "l\n",
      "o\n",
      " \n",
      "w\n",
      "o\n",
      "r\n",
      "l\n",
      "d\n"
     ]
    }
   ],
   "source": [
    "for s in \"hello world\":\n",
    "    print(s)"
   ]
  },
  {
   "cell_type": "code",
   "execution_count": 43,
   "id": "bb9fb13b-0907-460e-9e39-be9dbed2d76d",
   "metadata": {},
   "outputs": [
    {
     "name": "stdout",
     "output_type": "stream",
     "text": [
      "h\n",
      "e\n",
      "l\n",
      "l\n",
      "o\n",
      " \n",
      "w\n",
      "o\n",
      "r\n",
      "l\n",
      "d\n"
     ]
    }
   ],
   "source": [
    "mystr='hello world'\n",
    "for s1 in mystr:\n",
    "    print(s1)"
   ]
  },
  {
   "cell_type": "code",
   "execution_count": 51,
   "id": "6c82fa87-df8b-4059-8f68-4e4b32bcf7d9",
   "metadata": {},
   "outputs": [
    {
     "name": "stdout",
     "output_type": "stream",
     "text": [
      "2\n",
      "4\n",
      "hellohello\n"
     ]
    }
   ],
   "source": [
    "l=[1,2,'hello']\n",
    "for i in l:\n",
    "    print(i*2)"
   ]
  },
  {
   "cell_type": "code",
   "execution_count": 57,
   "id": "46f7aa58-903a-4502-8f65-ec3d0350e674",
   "metadata": {},
   "outputs": [
    {
     "name": "stdout",
     "output_type": "stream",
     "text": [
      "80\n"
     ]
    }
   ],
   "source": [
    "list1=[10,20,30,40]\n",
    "i=0\n",
    "for i in list1:\n",
    "    i=i+i\n",
    "print(i)"
   ]
  },
  {
   "cell_type": "code",
   "execution_count": 59,
   "id": "ed92c637-9221-49cd-b265-12692e9d98df",
   "metadata": {},
   "outputs": [
    {
     "name": "stdout",
     "output_type": "stream",
     "text": [
      "20\n",
      "40\n",
      "60\n",
      "80\n"
     ]
    }
   ],
   "source": [
    "list1=[10,20,30,40]\n",
    "i=0\n",
    "for i in list1:\n",
    "    i=i+i\n",
    "    print(i)"
   ]
  },
  {
   "cell_type": "code",
   "execution_count": 65,
   "id": "f363aec2-9565-4576-add0-848ca42ebe7e",
   "metadata": {},
   "outputs": [
    {
     "name": "stdout",
     "output_type": "stream",
     "text": [
      "k\n",
      "k1\n"
     ]
    }
   ],
   "source": [
    "dict1={'k':'hello','k1':10}\n",
    "for i in dict1:\n",
    "    print(i)"
   ]
  },
  {
   "cell_type": "code",
   "execution_count": 71,
   "id": "e07159ef-6c71-4c47-82f5-2148bbf1bd02",
   "metadata": {},
   "outputs": [
    {
     "name": "stdout",
     "output_type": "stream",
     "text": [
      "('k', 'hello')\n",
      "('k1', 10)\n"
     ]
    }
   ],
   "source": [
    "for i in dict1.items():\n",
    "    print(i)"
   ]
  },
  {
   "cell_type": "code",
   "execution_count": 75,
   "id": "33f5100d-1719-4d87-b8fd-1760be750c29",
   "metadata": {},
   "outputs": [
    {
     "name": "stdout",
     "output_type": "stream",
     "text": [
      "hello\n",
      "10\n"
     ]
    }
   ],
   "source": [
    "for i in dict1.values():\n",
    "    print(i)"
   ]
  },
  {
   "cell_type": "code",
   "execution_count": 77,
   "id": "a988b46f-5643-4aaa-a203-e9b1e3cd78d1",
   "metadata": {},
   "outputs": [
    {
     "name": "stdout",
     "output_type": "stream",
     "text": [
      "1 2\n",
      "2 3\n"
     ]
    }
   ],
   "source": [
    "t=[(1,2),(2,3)]\n",
    "for a,b in t:\n",
    "    print (a,b)"
   ]
  },
  {
   "cell_type": "code",
   "execution_count": 79,
   "id": "f8998247-389c-4e25-b14a-705cb584370b",
   "metadata": {},
   "outputs": [
    {
     "name": "stdout",
     "output_type": "stream",
     "text": [
      "(1, 2)\n",
      "(2, 3)\n"
     ]
    }
   ],
   "source": [
    "for i in t:\n",
    "    print(i)"
   ]
  },
  {
   "cell_type": "code",
   "execution_count": 83,
   "id": "a3f4a333-22dc-41ae-b6b8-dcfa50ace90f",
   "metadata": {},
   "outputs": [
    {
     "name": "stdout",
     "output_type": "stream",
     "text": [
      "hello\n",
      "hello\n",
      "hello\n",
      "hello\n",
      "hello\n"
     ]
    }
   ],
   "source": [
    "for _ in 'mystr':\n",
    "    print('hello')"
   ]
  },
  {
   "cell_type": "code",
   "execution_count": 93,
   "id": "dfddccb5-2da3-4037-94a0-f6ceefa824c5",
   "metadata": {},
   "outputs": [
    {
     "name": "stdout",
     "output_type": "stream",
     "text": [
      "2\n",
      "3\n",
      "4\n",
      "4\n"
     ]
    }
   ],
   "source": [
    "for i in [1,2,3]:\n",
    "    if i>0:\n",
    "        i=i+1\n",
    "        print(i)\n",
    "print(i)\n",
    "    "
   ]
  },
  {
   "cell_type": "code",
   "execution_count": 3,
   "id": "4890845e-e53c-46a0-8d27-a1e74e91c348",
   "metadata": {},
   "outputs": [],
   "source": [
    "listls=[1,2,3]"
   ]
  },
  {
   "cell_type": "code",
   "execution_count": 5,
   "id": "7a2b2d06-f512-4765-a88a-33756228d60d",
   "metadata": {},
   "outputs": [
    {
     "name": "stdout",
     "output_type": "stream",
     "text": [
      "Help on built-in function insert:\n",
      "\n",
      "insert(index, object, /) method of builtins.list instance\n",
      "    Insert object before index.\n",
      "\n"
     ]
    }
   ],
   "source": [
    "help(listls.insert)"
   ]
  },
  {
   "cell_type": "code",
   "execution_count": null,
   "id": "36b530a9-eb35-48e7-8c65-c6c222302021",
   "metadata": {},
   "outputs": [],
   "source": []
  }
 ],
 "metadata": {
  "kernelspec": {
   "display_name": "Python 3 (ipykernel)",
   "language": "python",
   "name": "python3"
  },
  "language_info": {
   "codemirror_mode": {
    "name": "ipython",
    "version": 3
   },
   "file_extension": ".py",
   "mimetype": "text/x-python",
   "name": "python",
   "nbconvert_exporter": "python",
   "pygments_lexer": "ipython3",
   "version": "3.12.4"
  }
 },
 "nbformat": 4,
 "nbformat_minor": 5
}
