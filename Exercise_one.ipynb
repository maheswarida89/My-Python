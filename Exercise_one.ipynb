{
 "cells": [
  {
   "cell_type": "code",
   "execution_count": 1,
   "id": "9c09f344-efd9-4177-b64f-6832b4e08b50",
   "metadata": {},
   "outputs": [
    {
     "data": {
      "text/plain": [
       "100.25"
      ]
     },
     "execution_count": 1,
     "metadata": {},
     "output_type": "execute_result"
    }
   ],
   "source": [
    "(2*5)* 10+0.25"
   ]
  },
  {
   "cell_type": "code",
   "execution_count": 3,
   "id": "204c9992-f69e-4e84-a64a-0739fd42dad1",
   "metadata": {},
   "outputs": [
    {
     "data": {
      "text/plain": [
       "44"
      ]
     },
     "execution_count": 3,
     "metadata": {},
     "output_type": "execute_result"
    }
   ],
   "source": [
    "4*(6+5)"
   ]
  },
  {
   "cell_type": "code",
   "execution_count": 5,
   "id": "f39617b3-6d68-4ce3-b9ff-43410cc85a96",
   "metadata": {},
   "outputs": [
    {
     "data": {
      "text/plain": [
       "29"
      ]
     },
     "execution_count": 5,
     "metadata": {},
     "output_type": "execute_result"
    }
   ],
   "source": [
    "4*6+5"
   ]
  },
  {
   "cell_type": "code",
   "execution_count": 7,
   "id": "41597656-8647-4aa0-aa44-c99486a061d6",
   "metadata": {},
   "outputs": [
    {
     "data": {
      "text/plain": [
       "34"
      ]
     },
     "execution_count": 7,
     "metadata": {},
     "output_type": "execute_result"
    }
   ],
   "source": [
    "4+6*5"
   ]
  },
  {
   "cell_type": "code",
   "execution_count": null,
   "id": "ba9d7182-ef94-4829-a670-5d95beb0ce5b",
   "metadata": {},
   "outputs": [],
   "source": [
    "######### \" LISTS \" ############"
   ]
  },
  {
   "cell_type": "code",
   "execution_count": 11,
   "id": "ae6e06ed-5c22-4d61-ab4f-1d6c23263fc0",
   "metadata": {},
   "outputs": [],
   "source": [
    "my_list=[0,0,0]"
   ]
  },
  {
   "cell_type": "code",
   "execution_count": 13,
   "id": "b7d90c53-ed6d-4ad3-8150-c4844bfc3f7f",
   "metadata": {},
   "outputs": [
    {
     "data": {
      "text/plain": [
       "[0, 0, 0]"
      ]
     },
     "execution_count": 13,
     "metadata": {},
     "output_type": "execute_result"
    }
   ],
   "source": [
    "my_list"
   ]
  },
  {
   "cell_type": "code",
   "execution_count": 15,
   "id": "0d46dddc-8f74-4638-b4d8-e7067684a850",
   "metadata": {},
   "outputs": [],
   "source": [
    "list1=[1,2,[3,4,'hello']]"
   ]
  },
  {
   "cell_type": "code",
   "execution_count": 19,
   "id": "5806f869-126a-47ce-9745-edc3057cc892",
   "metadata": {},
   "outputs": [],
   "source": [
    "list1[2][2] = 'goodbye'"
   ]
  },
  {
   "cell_type": "code",
   "execution_count": 21,
   "id": "d7871570-c879-4ea0-9e83-a7696ae71f9b",
   "metadata": {},
   "outputs": [
    {
     "data": {
      "text/plain": [
       "[1, 2, [3, 4, 'goodbye']]"
      ]
     },
     "execution_count": 21,
     "metadata": {},
     "output_type": "execute_result"
    }
   ],
   "source": [
    "list1"
   ]
  },
  {
   "cell_type": "code",
   "execution_count": 23,
   "id": "b01f1ea7-95e8-47db-addb-24eacb5570f3",
   "metadata": {},
   "outputs": [],
   "source": [
    "list2=[5,3,4,6,1]"
   ]
  },
  {
   "cell_type": "code",
   "execution_count": 25,
   "id": "812f590e-9871-426e-9b7c-ddb62ff50b3d",
   "metadata": {},
   "outputs": [],
   "source": [
    "list2.sort()"
   ]
  },
  {
   "cell_type": "code",
   "execution_count": 27,
   "id": "0f523a6a-92a8-4cb3-bbe9-2de863f5a405",
   "metadata": {},
   "outputs": [
    {
     "data": {
      "text/plain": [
       "[1, 3, 4, 5, 6]"
      ]
     },
     "execution_count": 27,
     "metadata": {},
     "output_type": "execute_result"
    }
   ],
   "source": [
    "list2"
   ]
  },
  {
   "cell_type": "code",
   "execution_count": null,
   "id": "9e50b652-2832-435c-94b6-dcea1b37368d",
   "metadata": {},
   "outputs": [],
   "source": [
    "############ 'Dictionaries' ##############"
   ]
  },
  {
   "cell_type": "code",
   "execution_count": 33,
   "id": "10e20bcf-4259-49ba-944d-5a96b7aa799c",
   "metadata": {},
   "outputs": [],
   "source": [
    "d={'simple_key':'hello'}"
   ]
  },
  {
   "cell_type": "code",
   "execution_count": 37,
   "id": "580497f1-7224-4fbd-845a-ec742f1bfa0b",
   "metadata": {},
   "outputs": [
    {
     "data": {
      "text/plain": [
       "'hello'"
      ]
     },
     "execution_count": 37,
     "metadata": {},
     "output_type": "execute_result"
    }
   ],
   "source": [
    "d['simple_key']"
   ]
  },
  {
   "cell_type": "code",
   "execution_count": 41,
   "id": "dff0e808-f5bc-4b7d-9c21-76f0cee55cbd",
   "metadata": {},
   "outputs": [],
   "source": [
    "d1={'k1':{'k2':'hello'}}"
   ]
  },
  {
   "cell_type": "code",
   "execution_count": 45,
   "id": "251a7eb3-4dc1-4b9f-90cf-31cea7180143",
   "metadata": {},
   "outputs": [
    {
     "data": {
      "text/plain": [
       "'hello'"
      ]
     },
     "execution_count": 45,
     "metadata": {},
     "output_type": "execute_result"
    }
   ],
   "source": [
    "d1['k1']['k2']"
   ]
  },
  {
   "cell_type": "code",
   "execution_count": 47,
   "id": "272d590c-b9ef-42cd-aa38-cce81650b7e4",
   "metadata": {},
   "outputs": [],
   "source": [
    "d2={'k1':[{'nest_key':['this is mahi',['hello']]}]}"
   ]
  },
  {
   "cell_type": "code",
   "execution_count": 71,
   "id": "86d8c6c0-3b73-4d5e-af1a-9d022ea3139b",
   "metadata": {},
   "outputs": [
    {
     "data": {
      "text/plain": [
       "'hello'"
      ]
     },
     "execution_count": 71,
     "metadata": {},
     "output_type": "execute_result"
    }
   ],
   "source": [
    "d2['k1'][0]['nest_key'][1][0]"
   ]
  },
  {
   "cell_type": "code",
   "execution_count": 73,
   "id": "700a3c8d-95bc-409d-9c72-e52e272f4220",
   "metadata": {},
   "outputs": [],
   "source": [
    "d3={'k1':[1,2,{'k2':['this is mahi',{'d':[1,2,['hello']]}]}]}"
   ]
  },
  {
   "cell_type": "code",
   "execution_count": 83,
   "id": "e74d0987-7d12-4528-8332-ef8acccf15b3",
   "metadata": {},
   "outputs": [
    {
     "data": {
      "text/plain": [
       "'hello'"
      ]
     },
     "execution_count": 83,
     "metadata": {},
     "output_type": "execute_result"
    }
   ],
   "source": [
    "d3['k1'][2]['k2'][1]['d'][2][0]"
   ]
  },
  {
   "cell_type": "code",
   "execution_count": 85,
   "id": "1cdd6415-ef52-41f6-84a0-48bf1f2c66ef",
   "metadata": {},
   "outputs": [],
   "source": [
    "list1 = [1,2,2,33,4,4,11,22,3,3,2]"
   ]
  },
  {
   "cell_type": "code",
   "execution_count": 89,
   "id": "a6d344ee-2b16-4fc1-9013-a40ac307cf3b",
   "metadata": {},
   "outputs": [
    {
     "data": {
      "text/plain": [
       "{1, 2, 3, 4, 11, 22, 33}"
      ]
     },
     "execution_count": 89,
     "metadata": {},
     "output_type": "execute_result"
    }
   ],
   "source": [
    "set(list1)"
   ]
  },
  {
   "cell_type": "code",
   "execution_count": null,
   "id": "5b65eb1a-4bb8-447f-8782-e960ed42195c",
   "metadata": {},
   "outputs": [],
   "source": [
    "################ ' Booleans ' ######################"
   ]
  },
  {
   "cell_type": "code",
   "execution_count": 91,
   "id": "d53bb1c8-1e3b-41b8-8d66-79f127291655",
   "metadata": {},
   "outputs": [
    {
     "data": {
      "text/plain": [
       "False"
      ]
     },
     "execution_count": 91,
     "metadata": {},
     "output_type": "execute_result"
    }
   ],
   "source": [
    "2>3"
   ]
  },
  {
   "cell_type": "code",
   "execution_count": 93,
   "id": "c54e18fb-9af5-4b59-9a62-7e5b826cea83",
   "metadata": {},
   "outputs": [
    {
     "data": {
      "text/plain": [
       "False"
      ]
     },
     "execution_count": 93,
     "metadata": {},
     "output_type": "execute_result"
    }
   ],
   "source": [
    "3<=2"
   ]
  },
  {
   "cell_type": "code",
   "execution_count": 95,
   "id": "5e2d92fd-fb17-4152-889b-2a9ea3ce04ae",
   "metadata": {},
   "outputs": [
    {
     "data": {
      "text/plain": [
       "False"
      ]
     },
     "execution_count": 95,
     "metadata": {},
     "output_type": "execute_result"
    }
   ],
   "source": [
    "3==2.0"
   ]
  },
  {
   "cell_type": "code",
   "execution_count": 97,
   "id": "2bf07885-b1cf-4dd7-870b-8e9d87670ef5",
   "metadata": {},
   "outputs": [
    {
     "data": {
      "text/plain": [
       "True"
      ]
     },
     "execution_count": 97,
     "metadata": {},
     "output_type": "execute_result"
    }
   ],
   "source": [
    "3.0==3"
   ]
  },
  {
   "cell_type": "code",
   "execution_count": 107,
   "id": "f2bff99b-1ac3-4acc-a92c-64d5a4ed15a1",
   "metadata": {},
   "outputs": [
    {
     "data": {
      "text/plain": [
       "False"
      ]
     },
     "execution_count": 107,
     "metadata": {},
     "output_type": "execute_result"
    }
   ],
   "source": [
    "4**0.5!=2"
   ]
  },
  {
   "cell_type": "code",
   "execution_count": 109,
   "id": "19634aa9-9793-4fd2-ab4c-26b0e88fd754",
   "metadata": {},
   "outputs": [
    {
     "data": {
      "text/plain": [
       "False"
      ]
     },
     "execution_count": 109,
     "metadata": {},
     "output_type": "execute_result"
    }
   ],
   "source": [
    "l_one=[1,2,[3,4]]\n",
    "l_two=[1,2,{'k1':4}]\n",
    "l_one[2][0]>=l_two[2]['k1']"
   ]
  },
  {
   "cell_type": "code",
   "execution_count": null,
   "id": "9f7edab4-a1ed-4dd1-aa2a-ae7245cf7dfa",
   "metadata": {},
   "outputs": [],
   "source": [
    "##################### ' Strings ' #########################"
   ]
  },
  {
   "cell_type": "code",
   "execution_count": 1,
   "id": "847cf21a-c0e1-4164-afde-b2e7fcf7ff73",
   "metadata": {},
   "outputs": [],
   "source": [
    "s='hello'"
   ]
  },
  {
   "cell_type": "code",
   "execution_count": 3,
   "id": "43793aeb-64f6-4043-b127-f2bdfaf36a19",
   "metadata": {},
   "outputs": [
    {
     "data": {
      "text/plain": [
       "'o'"
      ]
     },
     "execution_count": 3,
     "metadata": {},
     "output_type": "execute_result"
    }
   ],
   "source": [
    "s[4]"
   ]
  },
  {
   "cell_type": "code",
   "execution_count": 5,
   "id": "8e67c0be-5272-467b-a17b-9a1362c8d043",
   "metadata": {},
   "outputs": [
    {
     "data": {
      "text/plain": [
       "'o'"
      ]
     },
     "execution_count": 5,
     "metadata": {},
     "output_type": "execute_result"
    }
   ],
   "source": [
    "s[-1]"
   ]
  },
  {
   "cell_type": "code",
   "execution_count": 11,
   "id": "26ce0585-a998-4ce9-a6e7-64f8c7363af8",
   "metadata": {},
   "outputs": [
    {
     "data": {
      "text/plain": [
       "'olleh'"
      ]
     },
     "execution_count": 11,
     "metadata": {},
     "output_type": "execute_result"
    }
   ],
   "source": [
    "s[::-1]"
   ]
  },
  {
   "cell_type": "code",
   "execution_count": null,
   "id": "844b12ad-5c46-4a0d-a783-7e0ad3cb92bc",
   "metadata": {},
   "outputs": [],
   "source": []
  }
 ],
 "metadata": {
  "kernelspec": {
   "display_name": "Python 3 (ipykernel)",
   "language": "python",
   "name": "python3"
  },
  "language_info": {
   "codemirror_mode": {
    "name": "ipython",
    "version": 3
   },
   "file_extension": ".py",
   "mimetype": "text/x-python",
   "name": "python",
   "nbconvert_exporter": "python",
   "pygments_lexer": "ipython3",
   "version": "3.12.4"
  }
 },
 "nbformat": 4,
 "nbformat_minor": 5
}
